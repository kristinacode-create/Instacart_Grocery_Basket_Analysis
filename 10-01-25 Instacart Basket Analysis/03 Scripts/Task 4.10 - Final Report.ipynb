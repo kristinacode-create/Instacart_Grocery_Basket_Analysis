{
 "cells": [
  {
   "cell_type": "markdown",
   "id": "47afd62c-f31d-4284-8417-b5956e58748d",
   "metadata": {},
   "source": [
    "# 4.10 Instacart Final Task\n",
    "## Content\n",
    "### Libraries and Dataframes\n",
    "### Regional segmentation of data\n",
    "### Difference in spending habits between the different U.S. regions\n",
    "### Exclusion flag for low-activity customers\n",
    "### Customer profiling\n",
    "### Aggregating the max, mean, and min variables on a customer-profile level for usage frequency and expenditure\n",
    "### Compare customer profiles with regions and departments\n",
    "### Visualizations"
   ]
  },
  {
   "cell_type": "code",
   "execution_count": 2,
   "id": "60596bf8-e3f1-40b4-8800-a4f6a1e703bc",
   "metadata": {},
   "outputs": [],
   "source": [
    "# import Libraries\n",
    "import pandas as pd\n",
    "import numpy as np\n",
    "import os\n",
    "import matplotlib.pyplot as plt\n",
    "import seaborn as sns\n",
    "import scipy"
   ]
  },
  {
   "cell_type": "code",
   "execution_count": 3,
   "id": "d395c739-35ab-4149-8f41-5b35956aaf05",
   "metadata": {},
   "outputs": [],
   "source": [
    "path = r'C:\\Users\\krist\\OneDrive\\Desktop\\CareerFoundry\\Data Immersion\\Achievement 4.2\\21-01-25 Instacart Basket Analysis'"
   ]
  },
  {
   "cell_type": "code",
   "execution_count": 4,
   "id": "1c3569da-1a89-48b7-ac7c-4d8ef3d5c478",
   "metadata": {},
   "outputs": [],
   "source": [
    "cust_ords_prods = pd.read_pickle(os.path.join(path, '02 Data', 'Prepared Data', 'cust_ords_prods_merge.pkl'))"
   ]
  },
  {
   "cell_type": "markdown",
   "id": "cf92109e-0a2e-4094-9e7f-7690e4645ae9",
   "metadata": {},
   "source": [
    "# Regional segmentation of the data"
   ]
  },
  {
   "cell_type": "code",
   "execution_count": 5,
   "id": "0db40879-b945-4cf0-91a0-d48b2a97b231",
   "metadata": {},
   "outputs": [
    {
     "data": {
      "text/html": [
       "<div>\n",
       "<style scoped>\n",
       "    .dataframe tbody tr th:only-of-type {\n",
       "        vertical-align: middle;\n",
       "    }\n",
       "\n",
       "    .dataframe tbody tr th {\n",
       "        vertical-align: top;\n",
       "    }\n",
       "\n",
       "    .dataframe thead th {\n",
       "        text-align: right;\n",
       "    }\n",
       "</style>\n",
       "<table border=\"1\" class=\"dataframe\">\n",
       "  <thead>\n",
       "    <tr style=\"text-align: right;\">\n",
       "      <th></th>\n",
       "      <th>order_id</th>\n",
       "      <th>user_id</th>\n",
       "      <th>order_number</th>\n",
       "      <th>orders_day_of_week</th>\n",
       "      <th>order_hour_of_day</th>\n",
       "      <th>days_since_prior_order</th>\n",
       "      <th>product_id</th>\n",
       "      <th>add_to_cart_order</th>\n",
       "      <th>reordered</th>\n",
       "      <th>product_name</th>\n",
       "      <th>...</th>\n",
       "      <th>order_frequency_flag</th>\n",
       "      <th>First Name</th>\n",
       "      <th>Last Name</th>\n",
       "      <th>Gender</th>\n",
       "      <th>State</th>\n",
       "      <th>Age</th>\n",
       "      <th>Date Joined</th>\n",
       "      <th>Number of Dependents</th>\n",
       "      <th>Family Status</th>\n",
       "      <th>Income</th>\n",
       "    </tr>\n",
       "  </thead>\n",
       "  <tbody>\n",
       "    <tr>\n",
       "      <th>0</th>\n",
       "      <td>2539329</td>\n",
       "      <td>1</td>\n",
       "      <td>1</td>\n",
       "      <td>2</td>\n",
       "      <td>8</td>\n",
       "      <td>NaN</td>\n",
       "      <td>196</td>\n",
       "      <td>1</td>\n",
       "      <td>0</td>\n",
       "      <td>Soda</td>\n",
       "      <td>...</td>\n",
       "      <td>Non-frequent customer</td>\n",
       "      <td>Linda</td>\n",
       "      <td>Nguyen</td>\n",
       "      <td>Female</td>\n",
       "      <td>Alabama</td>\n",
       "      <td>31</td>\n",
       "      <td>2/17/2019</td>\n",
       "      <td>3</td>\n",
       "      <td>married</td>\n",
       "      <td>40423</td>\n",
       "    </tr>\n",
       "    <tr>\n",
       "      <th>1</th>\n",
       "      <td>2539329</td>\n",
       "      <td>1</td>\n",
       "      <td>1</td>\n",
       "      <td>2</td>\n",
       "      <td>8</td>\n",
       "      <td>NaN</td>\n",
       "      <td>14084</td>\n",
       "      <td>2</td>\n",
       "      <td>0</td>\n",
       "      <td>Organic Unsweetened Vanilla Almond Milk</td>\n",
       "      <td>...</td>\n",
       "      <td>Non-frequent customer</td>\n",
       "      <td>Linda</td>\n",
       "      <td>Nguyen</td>\n",
       "      <td>Female</td>\n",
       "      <td>Alabama</td>\n",
       "      <td>31</td>\n",
       "      <td>2/17/2019</td>\n",
       "      <td>3</td>\n",
       "      <td>married</td>\n",
       "      <td>40423</td>\n",
       "    </tr>\n",
       "    <tr>\n",
       "      <th>2</th>\n",
       "      <td>2539329</td>\n",
       "      <td>1</td>\n",
       "      <td>1</td>\n",
       "      <td>2</td>\n",
       "      <td>8</td>\n",
       "      <td>NaN</td>\n",
       "      <td>12427</td>\n",
       "      <td>3</td>\n",
       "      <td>0</td>\n",
       "      <td>Original Beef Jerky</td>\n",
       "      <td>...</td>\n",
       "      <td>Non-frequent customer</td>\n",
       "      <td>Linda</td>\n",
       "      <td>Nguyen</td>\n",
       "      <td>Female</td>\n",
       "      <td>Alabama</td>\n",
       "      <td>31</td>\n",
       "      <td>2/17/2019</td>\n",
       "      <td>3</td>\n",
       "      <td>married</td>\n",
       "      <td>40423</td>\n",
       "    </tr>\n",
       "    <tr>\n",
       "      <th>3</th>\n",
       "      <td>2539329</td>\n",
       "      <td>1</td>\n",
       "      <td>1</td>\n",
       "      <td>2</td>\n",
       "      <td>8</td>\n",
       "      <td>NaN</td>\n",
       "      <td>26088</td>\n",
       "      <td>4</td>\n",
       "      <td>0</td>\n",
       "      <td>Aged White Cheddar Popcorn</td>\n",
       "      <td>...</td>\n",
       "      <td>Non-frequent customer</td>\n",
       "      <td>Linda</td>\n",
       "      <td>Nguyen</td>\n",
       "      <td>Female</td>\n",
       "      <td>Alabama</td>\n",
       "      <td>31</td>\n",
       "      <td>2/17/2019</td>\n",
       "      <td>3</td>\n",
       "      <td>married</td>\n",
       "      <td>40423</td>\n",
       "    </tr>\n",
       "    <tr>\n",
       "      <th>4</th>\n",
       "      <td>2539329</td>\n",
       "      <td>1</td>\n",
       "      <td>1</td>\n",
       "      <td>2</td>\n",
       "      <td>8</td>\n",
       "      <td>NaN</td>\n",
       "      <td>26405</td>\n",
       "      <td>5</td>\n",
       "      <td>0</td>\n",
       "      <td>XL Pick-A-Size Paper Towel Rolls</td>\n",
       "      <td>...</td>\n",
       "      <td>Non-frequent customer</td>\n",
       "      <td>Linda</td>\n",
       "      <td>Nguyen</td>\n",
       "      <td>Female</td>\n",
       "      <td>Alabama</td>\n",
       "      <td>31</td>\n",
       "      <td>2/17/2019</td>\n",
       "      <td>3</td>\n",
       "      <td>married</td>\n",
       "      <td>40423</td>\n",
       "    </tr>\n",
       "  </tbody>\n",
       "</table>\n",
       "<p>5 rows × 33 columns</p>\n",
       "</div>"
      ],
      "text/plain": [
       "   order_id  user_id  order_number  orders_day_of_week  order_hour_of_day  \\\n",
       "0   2539329        1             1                   2                  8   \n",
       "1   2539329        1             1                   2                  8   \n",
       "2   2539329        1             1                   2                  8   \n",
       "3   2539329        1             1                   2                  8   \n",
       "4   2539329        1             1                   2                  8   \n",
       "\n",
       "   days_since_prior_order  product_id  add_to_cart_order  reordered  \\\n",
       "0                     NaN         196                  1          0   \n",
       "1                     NaN       14084                  2          0   \n",
       "2                     NaN       12427                  3          0   \n",
       "3                     NaN       26088                  4          0   \n",
       "4                     NaN       26405                  5          0   \n",
       "\n",
       "                              product_name  ...   order_frequency_flag  \\\n",
       "0                                     Soda  ...  Non-frequent customer   \n",
       "1  Organic Unsweetened Vanilla Almond Milk  ...  Non-frequent customer   \n",
       "2                      Original Beef Jerky  ...  Non-frequent customer   \n",
       "3               Aged White Cheddar Popcorn  ...  Non-frequent customer   \n",
       "4         XL Pick-A-Size Paper Towel Rolls  ...  Non-frequent customer   \n",
       "\n",
       "   First Name  Last Name  Gender    State Age Date Joined  \\\n",
       "0       Linda     Nguyen  Female  Alabama  31   2/17/2019   \n",
       "1       Linda     Nguyen  Female  Alabama  31   2/17/2019   \n",
       "2       Linda     Nguyen  Female  Alabama  31   2/17/2019   \n",
       "3       Linda     Nguyen  Female  Alabama  31   2/17/2019   \n",
       "4       Linda     Nguyen  Female  Alabama  31   2/17/2019   \n",
       "\n",
       "  Number of Dependents  Family Status Income  \n",
       "0                    3        married  40423  \n",
       "1                    3        married  40423  \n",
       "2                    3        married  40423  \n",
       "3                    3        married  40423  \n",
       "4                    3        married  40423  \n",
       "\n",
       "[5 rows x 33 columns]"
      ]
     },
     "execution_count": 5,
     "metadata": {},
     "output_type": "execute_result"
    }
   ],
   "source": [
    "cust_ords_prods.head()"
   ]
  },
  {
   "cell_type": "code",
   "execution_count": 6,
   "id": "ce1f3fd0-d3f3-4fcb-8e29-c4365b999dd8",
   "metadata": {},
   "outputs": [],
   "source": [
    "#Assigning Northeast Region\n",
    "cust_ords_prods.loc[cust_ords_prods['State'] == 'Maine', 'Region'] = 'Northeast'\n",
    "cust_ords_prods.loc[cust_ords_prods['State'] == 'New Hampshire', 'Region'] = 'Northeast'\n",
    "cust_ords_prods.loc[cust_ords_prods['State'] == 'Vermont', 'Region'] = 'Northeast'\n",
    "cust_ords_prods.loc[cust_ords_prods['State'] == 'Pennsylvania', 'Region'] = 'Northeast'\n",
    "cust_ords_prods.loc[cust_ords_prods['State'] == 'Massachusetts', 'Region'] = 'Northeast'\n",
    "cust_ords_prods.loc[cust_ords_prods['State'] == 'Rhode Island', 'Region'] = 'Northeast'\n",
    "cust_ords_prods.loc[cust_ords_prods['State'] == 'Connecticut', 'Region'] = 'Northeast'"
   ]
  },
  {
   "cell_type": "code",
   "execution_count": 7,
   "id": "793d45d3-4d9b-4181-9d2b-8154f9257851",
   "metadata": {},
   "outputs": [],
   "source": [
    "#Assigning Midwest Region\n",
    "cust_ords_prods.loc[cust_ords_prods['State'] == 'Wisconsin', 'Region'] = 'Midwest'\n",
    "cust_ords_prods.loc[cust_ords_prods['State'] == 'Michigan', 'Region'] = 'Midwest'\n",
    "cust_ords_prods.loc[cust_ords_prods['State'] == 'Illinois', 'Region'] = 'Midwest'\n",
    "cust_ords_prods.loc[cust_ords_prods['State'] == 'Indiana', 'Region'] = 'Midwest'\n",
    "cust_ords_prods.loc[cust_ords_prods['State'] == 'Ohio', 'Region'] = 'Midwest'\n",
    "cust_ords_prods.loc[cust_ords_prods['State'] == 'North Dakota', 'Region'] = 'Midwest'\n",
    "cust_ords_prods.loc[cust_ords_prods['State'] == 'South Dakota', 'Region'] = 'Midwest'\n",
    "cust_ords_prods.loc[cust_ords_prods['State'] == 'Nebraska', 'Region'] = 'Midwest'\n",
    "cust_ords_prods.loc[cust_ords_prods['State'] == 'Kansas', 'Region'] = 'Midwest'\n",
    "cust_ords_prods.loc[cust_ords_prods['State'] == 'Minnesota', 'Region'] = 'Midwest'\n",
    "cust_ords_prods.loc[cust_ords_prods['State'] == 'Iowa', 'Region'] = 'Midwest'\n",
    "cust_ords_prods.loc[cust_ords_prods['State'] == 'Missouri', 'Region'] = 'Midwest'"
   ]
  },
  {
   "cell_type": "code",
   "execution_count": 8,
   "id": "01d30cca-7293-43d0-ae57-a4fa2c8f46c6",
   "metadata": {},
   "outputs": [],
   "source": [
    "#Assigning South Region\n",
    "cust_ords_prods.loc[cust_ords_prods['State'] == 'Delaware', 'Region'] = 'South'\n",
    "cust_ords_prods.loc[cust_ords_prods['State'] == 'Maryland', 'Region'] = 'South'\n",
    "cust_ords_prods.loc[cust_ords_prods['State'] == 'District of Columbia', 'Region'] = 'South'\n",
    "cust_ords_prods.loc[cust_ords_prods['State'] == 'Virginia', 'Region'] = 'South'\n",
    "cust_ords_prods.loc[cust_ords_prods['State'] == 'West Virginia', 'Region'] = 'South'\n",
    "cust_ords_prods.loc[cust_ords_prods['State'] == 'North Carolina', 'Region'] = 'South'\n",
    "cust_ords_prods.loc[cust_ords_prods['State'] == 'South Carolina', 'Region'] = 'South'\n",
    "cust_ords_prods.loc[cust_ords_prods['State'] == 'Georgia', 'Region'] = 'South'\n",
    "cust_ords_prods.loc[cust_ords_prods['State'] == 'Florida', 'Region'] = 'South'\n",
    "cust_ords_prods.loc[cust_ords_prods['State'] == 'Kentucky', 'Region'] = 'South'\n",
    "cust_ords_prods.loc[cust_ords_prods['State'] == 'Tennessee', 'Region'] = 'South'\n",
    "cust_ords_prods.loc[cust_ords_prods['State'] == 'Mississippi', 'Region'] = 'South'\n",
    "cust_ords_prods.loc[cust_ords_prods['State'] == 'Alabama', 'Region'] = 'South'\n",
    "cust_ords_prods.loc[cust_ords_prods['State'] == 'Oklahoma', 'Region'] = 'South'\n",
    "cust_ords_prods.loc[cust_ords_prods['State'] == 'Texas', 'Region'] = 'South'\n",
    "cust_ords_prods.loc[cust_ords_prods['State'] == 'Arkansas', 'Region'] = 'South'\n",
    "cust_ords_prods.loc[cust_ords_prods['State'] == 'Louisiana', 'Region'] = 'South'"
   ]
  },
  {
   "cell_type": "code",
   "execution_count": 9,
   "id": "7969f832-f899-43ad-9168-bea8d0fb407b",
   "metadata": {},
   "outputs": [],
   "source": [
    "#Assign West Region\n",
    "cust_ords_prods.loc[cust_ords_prods['State'] == 'Idaho', 'Region'] = 'West'\n",
    "cust_ords_prods.loc[cust_ords_prods['State'] == 'Montana', 'Region'] = 'West'\n",
    "cust_ords_prods.loc[cust_ords_prods['State'] == 'Wyoming', 'Region'] = 'West'\n",
    "cust_ords_prods.loc[cust_ords_prods['State'] == 'Nevada', 'Region'] = 'West'\n",
    "cust_ords_prods.loc[cust_ords_prods['State'] == 'Utah', 'Region'] = 'West'\n",
    "cust_ords_prods.loc[cust_ords_prods['State'] == 'Colorado', 'Region'] = 'West'\n",
    "cust_ords_prods.loc[cust_ords_prods['State'] == 'Arizona', 'Region'] = 'West'\n",
    "cust_ords_prods.loc[cust_ords_prods['State'] == 'New Mexico', 'Region'] = 'West'\n",
    "cust_ords_prods.loc[cust_ords_prods['State'] == 'Alaska', 'Region'] = 'West'\n",
    "cust_ords_prods.loc[cust_ords_prods['State'] == 'Washington', 'Region'] = 'West'\n",
    "cust_ords_prods.loc[cust_ords_prods['State'] == 'Oregon', 'Region'] = 'West'\n",
    "cust_ords_prods.loc[cust_ords_prods['State'] == 'California', 'Region'] = 'West'\n",
    "cust_ords_prods.loc[cust_ords_prods['State'] == 'Hawaii', 'Region'] = 'West'"
   ]
  },
  {
   "cell_type": "code",
   "execution_count": 10,
   "id": "cf004b34-f64d-40b7-96df-da6a8a9863ff",
   "metadata": {},
   "outputs": [
    {
     "data": {
      "text/html": [
       "<div>\n",
       "<style scoped>\n",
       "    .dataframe tbody tr th:only-of-type {\n",
       "        vertical-align: middle;\n",
       "    }\n",
       "\n",
       "    .dataframe tbody tr th {\n",
       "        vertical-align: top;\n",
       "    }\n",
       "\n",
       "    .dataframe thead th {\n",
       "        text-align: right;\n",
       "    }\n",
       "</style>\n",
       "<table border=\"1\" class=\"dataframe\">\n",
       "  <thead>\n",
       "    <tr style=\"text-align: right;\">\n",
       "      <th></th>\n",
       "      <th>order_id</th>\n",
       "      <th>user_id</th>\n",
       "      <th>order_number</th>\n",
       "      <th>orders_day_of_week</th>\n",
       "      <th>order_hour_of_day</th>\n",
       "      <th>days_since_prior_order</th>\n",
       "      <th>product_id</th>\n",
       "      <th>add_to_cart_order</th>\n",
       "      <th>reordered</th>\n",
       "      <th>product_name</th>\n",
       "      <th>...</th>\n",
       "      <th>First Name</th>\n",
       "      <th>Last Name</th>\n",
       "      <th>Gender</th>\n",
       "      <th>State</th>\n",
       "      <th>Age</th>\n",
       "      <th>Date Joined</th>\n",
       "      <th>Number of Dependents</th>\n",
       "      <th>Family Status</th>\n",
       "      <th>Income</th>\n",
       "      <th>Region</th>\n",
       "    </tr>\n",
       "  </thead>\n",
       "  <tbody>\n",
       "    <tr>\n",
       "      <th>0</th>\n",
       "      <td>2539329</td>\n",
       "      <td>1</td>\n",
       "      <td>1</td>\n",
       "      <td>2</td>\n",
       "      <td>8</td>\n",
       "      <td>NaN</td>\n",
       "      <td>196</td>\n",
       "      <td>1</td>\n",
       "      <td>0</td>\n",
       "      <td>Soda</td>\n",
       "      <td>...</td>\n",
       "      <td>Linda</td>\n",
       "      <td>Nguyen</td>\n",
       "      <td>Female</td>\n",
       "      <td>Alabama</td>\n",
       "      <td>31</td>\n",
       "      <td>2/17/2019</td>\n",
       "      <td>3</td>\n",
       "      <td>married</td>\n",
       "      <td>40423</td>\n",
       "      <td>South</td>\n",
       "    </tr>\n",
       "    <tr>\n",
       "      <th>1</th>\n",
       "      <td>2539329</td>\n",
       "      <td>1</td>\n",
       "      <td>1</td>\n",
       "      <td>2</td>\n",
       "      <td>8</td>\n",
       "      <td>NaN</td>\n",
       "      <td>14084</td>\n",
       "      <td>2</td>\n",
       "      <td>0</td>\n",
       "      <td>Organic Unsweetened Vanilla Almond Milk</td>\n",
       "      <td>...</td>\n",
       "      <td>Linda</td>\n",
       "      <td>Nguyen</td>\n",
       "      <td>Female</td>\n",
       "      <td>Alabama</td>\n",
       "      <td>31</td>\n",
       "      <td>2/17/2019</td>\n",
       "      <td>3</td>\n",
       "      <td>married</td>\n",
       "      <td>40423</td>\n",
       "      <td>South</td>\n",
       "    </tr>\n",
       "    <tr>\n",
       "      <th>2</th>\n",
       "      <td>2539329</td>\n",
       "      <td>1</td>\n",
       "      <td>1</td>\n",
       "      <td>2</td>\n",
       "      <td>8</td>\n",
       "      <td>NaN</td>\n",
       "      <td>12427</td>\n",
       "      <td>3</td>\n",
       "      <td>0</td>\n",
       "      <td>Original Beef Jerky</td>\n",
       "      <td>...</td>\n",
       "      <td>Linda</td>\n",
       "      <td>Nguyen</td>\n",
       "      <td>Female</td>\n",
       "      <td>Alabama</td>\n",
       "      <td>31</td>\n",
       "      <td>2/17/2019</td>\n",
       "      <td>3</td>\n",
       "      <td>married</td>\n",
       "      <td>40423</td>\n",
       "      <td>South</td>\n",
       "    </tr>\n",
       "    <tr>\n",
       "      <th>3</th>\n",
       "      <td>2539329</td>\n",
       "      <td>1</td>\n",
       "      <td>1</td>\n",
       "      <td>2</td>\n",
       "      <td>8</td>\n",
       "      <td>NaN</td>\n",
       "      <td>26088</td>\n",
       "      <td>4</td>\n",
       "      <td>0</td>\n",
       "      <td>Aged White Cheddar Popcorn</td>\n",
       "      <td>...</td>\n",
       "      <td>Linda</td>\n",
       "      <td>Nguyen</td>\n",
       "      <td>Female</td>\n",
       "      <td>Alabama</td>\n",
       "      <td>31</td>\n",
       "      <td>2/17/2019</td>\n",
       "      <td>3</td>\n",
       "      <td>married</td>\n",
       "      <td>40423</td>\n",
       "      <td>South</td>\n",
       "    </tr>\n",
       "    <tr>\n",
       "      <th>4</th>\n",
       "      <td>2539329</td>\n",
       "      <td>1</td>\n",
       "      <td>1</td>\n",
       "      <td>2</td>\n",
       "      <td>8</td>\n",
       "      <td>NaN</td>\n",
       "      <td>26405</td>\n",
       "      <td>5</td>\n",
       "      <td>0</td>\n",
       "      <td>XL Pick-A-Size Paper Towel Rolls</td>\n",
       "      <td>...</td>\n",
       "      <td>Linda</td>\n",
       "      <td>Nguyen</td>\n",
       "      <td>Female</td>\n",
       "      <td>Alabama</td>\n",
       "      <td>31</td>\n",
       "      <td>2/17/2019</td>\n",
       "      <td>3</td>\n",
       "      <td>married</td>\n",
       "      <td>40423</td>\n",
       "      <td>South</td>\n",
       "    </tr>\n",
       "  </tbody>\n",
       "</table>\n",
       "<p>5 rows × 34 columns</p>\n",
       "</div>"
      ],
      "text/plain": [
       "   order_id  user_id  order_number  orders_day_of_week  order_hour_of_day  \\\n",
       "0   2539329        1             1                   2                  8   \n",
       "1   2539329        1             1                   2                  8   \n",
       "2   2539329        1             1                   2                  8   \n",
       "3   2539329        1             1                   2                  8   \n",
       "4   2539329        1             1                   2                  8   \n",
       "\n",
       "   days_since_prior_order  product_id  add_to_cart_order  reordered  \\\n",
       "0                     NaN         196                  1          0   \n",
       "1                     NaN       14084                  2          0   \n",
       "2                     NaN       12427                  3          0   \n",
       "3                     NaN       26088                  4          0   \n",
       "4                     NaN       26405                  5          0   \n",
       "\n",
       "                              product_name  ...  First Name  Last Name  \\\n",
       "0                                     Soda  ...       Linda     Nguyen   \n",
       "1  Organic Unsweetened Vanilla Almond Milk  ...       Linda     Nguyen   \n",
       "2                      Original Beef Jerky  ...       Linda     Nguyen   \n",
       "3               Aged White Cheddar Popcorn  ...       Linda     Nguyen   \n",
       "4         XL Pick-A-Size Paper Towel Rolls  ...       Linda     Nguyen   \n",
       "\n",
       "   Gender    State Age Date Joined Number of Dependents Family Status  Income  \\\n",
       "0  Female  Alabama  31   2/17/2019                    3       married   40423   \n",
       "1  Female  Alabama  31   2/17/2019                    3       married   40423   \n",
       "2  Female  Alabama  31   2/17/2019                    3       married   40423   \n",
       "3  Female  Alabama  31   2/17/2019                    3       married   40423   \n",
       "4  Female  Alabama  31   2/17/2019                    3       married   40423   \n",
       "\n",
       "  Region  \n",
       "0  South  \n",
       "1  South  \n",
       "2  South  \n",
       "3  South  \n",
       "4  South  \n",
       "\n",
       "[5 rows x 34 columns]"
      ]
     },
     "execution_count": 10,
     "metadata": {},
     "output_type": "execute_result"
    }
   ],
   "source": [
    "cust_ords_prods.head()"
   ]
  },
  {
   "cell_type": "markdown",
   "id": "0405e7af-7e79-41b0-ba0f-81f6513c70da",
   "metadata": {},
   "source": [
    "### Difference in spending habits between the different U.S regions"
   ]
  },
  {
   "cell_type": "code",
   "execution_count": 11,
   "id": "9e654905-aff2-4168-ba13-616f35f76844",
   "metadata": {},
   "outputs": [],
   "source": [
    "# Crosstab Region to spending flag\n",
    "crosstab = pd.crosstab(cust_ords_prods['Region'], cust_ords_prods['spending_flag'], dropna = False)"
   ]
  },
  {
   "cell_type": "code",
   "execution_count": 12,
   "id": "68cb8549-ac9b-418f-b1d7-cfae9d4a3d4c",
   "metadata": {},
   "outputs": [],
   "source": [
    "crosstab.to_clipboard()"
   ]
  },
  {
   "cell_type": "code",
   "execution_count": 13,
   "id": "6d2e793f-4463-4efe-82d5-c0f9420db473",
   "metadata": {},
   "outputs": [],
   "source": [
    "# save changes to customer_orders_products\n",
    "cust_ords_prods.to_pickle(os.path.join(path, '02 Data','Prepared Data', 'customer_orders_products.pkl'))"
   ]
  },
  {
   "cell_type": "markdown",
   "id": "54a91e80-3dbf-4c6f-b3e9-74ba775388a9",
   "metadata": {},
   "source": [
    "# Exclusion flag for low-activity customers"
   ]
  },
  {
   "cell_type": "code",
   "execution_count": 14,
   "id": "22fc09ef-bb08-4bf5-b8aa-f55e05974175",
   "metadata": {},
   "outputs": [],
   "source": [
    "# Create a flag for customers with less than 5 orders\n",
    "cust_ords_prods.loc[cust_ords_prods['max_order'] < 5, 'Activity_flag'] = 'Low-activity customer'\n",
    "cust_ords_prods.loc[cust_ords_prods['max_order'] >= 5, 'Activity_flag'] = 'High-activity customer'"
   ]
  },
  {
   "cell_type": "code",
   "execution_count": 15,
   "id": "b6c9517a-a5e7-4544-b03a-776999a0c880",
   "metadata": {},
   "outputs": [
    {
     "data": {
      "text/plain": [
       "Activity_flag\n",
       "High-activity customer    30964564\n",
       "Low-activity customer      1440295\n",
       "Name: count, dtype: int64"
      ]
     },
     "execution_count": 15,
     "metadata": {},
     "output_type": "execute_result"
    }
   ],
   "source": [
    "cust_ords_prods['Activity_flag'].value_counts(dropna = False)"
   ]
  },
  {
   "cell_type": "code",
   "execution_count": 16,
   "id": "21e71ef2-933a-46f8-8493-236416345c16",
   "metadata": {},
   "outputs": [],
   "source": [
    "# Exclude low-activity customers from the dataframe\n",
    "df_excluded = cust_ords_prods[cust_ords_prods['Activity_flag'] != 'low-activity customer']"
   ]
  },
  {
   "cell_type": "code",
   "execution_count": 17,
   "id": "0ff846cb-8107-4210-906a-2b6c3815bdcc",
   "metadata": {},
   "outputs": [],
   "source": [
    "# Export the new dataframe\n",
    "df_excluded.to_pickle(os.path.join(path, '02 Data','Prepared Data', 'low_activity_excluded.pkl'))"
   ]
  },
  {
   "cell_type": "markdown",
   "id": "b3fda2bd-de13-4b46-81d9-a4b7d8dd8c30",
   "metadata": {},
   "source": [
    "# Customer profiling"
   ]
  },
  {
   "cell_type": "markdown",
   "id": "3ee54076-56b5-490d-8f77-fe75cd837f92",
   "metadata": {},
   "source": [
    "### Age"
   ]
  },
  {
   "cell_type": "code",
   "execution_count": 18,
   "id": "b06bcbf0-0845-42fa-83f8-763c07e942e7",
   "metadata": {},
   "outputs": [],
   "source": [
    "#Creating an age group variable\n",
    "df_excluded.loc[df_excluded['Age'] <= 25, 'age_group'] = 'young adult'\n",
    "df_excluded.loc[(df_excluded['Age'] > 25) & (df_excluded['Age'] <= 44), 'age_group'] = 'adult'\n",
    "df_excluded.loc[(df_excluded['Age'] > 44) & (df_excluded['Age'] <= 64), 'age_group'] = 'middle-aged'\n",
    "df_excluded.loc[df_excluded['Age'] > 64, 'age_group'] = 'senior'"
   ]
  },
  {
   "cell_type": "code",
   "execution_count": 19,
   "id": "5782914b-f1b6-4fae-a07d-8ebebfe12079",
   "metadata": {},
   "outputs": [
    {
     "data": {
      "text/plain": [
       "age_group\n",
       "middle-aged    10139691\n",
       "adult           9644895\n",
       "senior          8575084\n",
       "young adult     4045189\n",
       "Name: count, dtype: int64"
      ]
     },
     "execution_count": 19,
     "metadata": {},
     "output_type": "execute_result"
    }
   ],
   "source": [
    "#Checking value counts for each age group\n",
    "age_group_counts = df_excluded['age_group'].value_counts(dropna = False)\n",
    "age_group_counts"
   ]
  },
  {
   "cell_type": "code",
   "execution_count": 20,
   "id": "463817cf-90e9-4e4e-9ddc-49fce238e326",
   "metadata": {},
   "outputs": [
    {
     "data": {
      "image/png": "[encoded data removed]",
      "text/plain": [
       "<Figure size 640x480 with 1 Axes>"
      ]
     },
     "metadata": {},
     "output_type": "display_data"
    }
   ],
   "source": [
    "# Make a pie chart showing the distribution of age groups\n",
    "age_group_distribution_pie = age_group_counts.plot.pie(autopct='%1.1f%%', labels= ['middle-aged: 45-64 years', 'adult: 26-44 years', 'senior: 65+ years', 'young adult: up to 25 years'], startangle=90, colors=['#ff9999','#66b3ff','#99ff99','#ffcc99'])\n",
    "plt.ylabel('')  # Hide the y-label\n",
    "plt.title('Distribution of Age Groups')\n",
    "plt.show()"
   ]
  },
  {
   "cell_type": "code",
   "execution_count": 21,
   "id": "a884e6ea-368d-4d25-b61c-43239181eaa0",
   "metadata": {},
   "outputs": [],
   "source": [
    "# Export chart\n",
    "age_group_distribution_pie.figure.savefig(os.path.join(path, '04 Analysis','Visualizations', 'age_group_distribution_pie.png'))"
   ]
  },
  {
   "cell_type": "markdown",
   "id": "e4ffa204-983f-42be-9204-2cc97ae8d635",
   "metadata": {},
   "source": [
    "## Income"
   ]
  },
  {
   "cell_type": "code",
   "execution_count": 22,
   "id": "de3a6d29-7aa6-40f8-888d-64b94d120724",
   "metadata": {},
   "outputs": [],
   "source": [
    "#Creating an income group variable\n",
    "df_excluded.loc[df_excluded['Income'] <= 55000, 'income_group'] = 'low-income'\n",
    "df_excluded.loc[(df_excluded['Income'] > 55000) & (df_excluded['Income'] <= 150000), 'income_group'] = 'middle-income'\n",
    "df_excluded.loc[df_excluded['Income'] > 150000, 'income_group'] = 'high-income'"
   ]
  },
  {
   "cell_type": "code",
   "execution_count": 23,
   "id": "15448869-fbbd-46b6-a1ef-99f12c4cb5ca",
   "metadata": {},
   "outputs": [
    {
     "data": {
      "text/plain": [
       "income_group\n",
       "middle-income    23614034\n",
       "low-income        4739985\n",
       "high-income       4050840\n",
       "Name: count, dtype: int64"
      ]
     },
     "execution_count": 23,
     "metadata": {},
     "output_type": "execute_result"
    }
   ],
   "source": [
    "#Checking the counts of income groups\n",
    "df_excluded['income_group'].value_counts(dropna = False)"
   ]
  },
  {
   "cell_type": "code",
   "execution_count": 24,
   "id": "0fb080d7-1677-4d82-9899-8eaae6361a89",
   "metadata": {},
   "outputs": [
    {
     "data": {
      "image/png": "[encoded data removed]",
      "text/plain": [
       "<Figure size 640x480 with 1 Axes>"
      ]
     },
     "metadata": {},
     "output_type": "display_data"
    }
   ],
   "source": [
    "#Make a bar chart showing the distribution of income groups\n",
    "income_group_counts = df_excluded['income_group'].value_counts(dropna=False)\n",
    "income_group_distribution_bar = income_group_counts.plot.bar()  \n",
    "plt.title('Distribution of Income Groups')\n",
    "plt.xlabel('')\n",
    "plt.ylabel('Count')\n",
    "plt.show()"
   ]
  },
  {
   "cell_type": "code",
   "execution_count": 25,
   "id": "b7fdc02c-2476-4c54-b999-705af3b992eb",
   "metadata": {},
   "outputs": [],
   "source": [
    "#Exporting the bar chart\n",
    "income_group_distribution_bar.figure.savefig(os.path.join(path, '04 Analysis','Visualizations', 'income_distribution_bar.png'))"
   ]
  },
  {
   "cell_type": "markdown",
   "id": "eabc449c-7cbc-42d9-adc2-9156e0976b0d",
   "metadata": {},
   "source": [
    "## Dependants"
   ]
  },
  {
   "cell_type": "code",
   "execution_count": 26,
   "id": "3e138360-2052-489a-8096-42f22f0464e0",
   "metadata": {},
   "outputs": [],
   "source": [
    "#Creating a dependents flag\n",
    "df_excluded.loc[df_excluded['Number of Dependents'] == 0, 'dependants_flag'] = 'no dependants'\n",
    "df_excluded.loc[df_excluded['Number of Dependents'] >= 1, 'dependants_flag'] = 'has dependants'"
   ]
  },
  {
   "cell_type": "code",
   "execution_count": 27,
   "id": "281f25f0-f0b6-412f-b9bc-99fc39edb2fd",
   "metadata": {},
   "outputs": [
    {
     "data": {
      "text/plain": [
       "dependants_flag\n",
       "has dependants    24307356\n",
       "no dependants      8097503\n",
       "Name: count, dtype: int64"
      ]
     },
     "execution_count": 27,
     "metadata": {},
     "output_type": "execute_result"
    }
   ],
   "source": [
    "#Checking value counts\n",
    "dependant_counts = df_excluded['dependants_flag'].value_counts(dropna = False)\n",
    "dependant_counts"
   ]
  },
  {
   "cell_type": "code",
   "execution_count": 28,
   "id": "5f2b9a57-6a16-4380-b385-2968bb379be7",
   "metadata": {},
   "outputs": [
    {
     "data": {
      "image/png": "[encoded data removed]",
      "text/plain": [
       "<Figure size 640x480 with 1 Axes>"
      ]
     },
     "metadata": {},
     "output_type": "display_data"
    }
   ],
   "source": [
    "# Make a pie chart showing the percentage of dependants\n",
    "dependants_pie = dependant_counts.plot.pie(autopct='%1.1f%%', labels= ['has dependants', 'no dependants'], startangle=90, colors=['#ff9999','#66b3ff'])\n",
    "plt.ylabel('')  # Hide the y-label\n",
    "plt.title('Percentage Having Dependants')\n",
    "plt.show()"
   ]
  },
  {
   "cell_type": "code",
   "execution_count": 29,
   "id": "069e3b4f-5c68-4032-8b2f-25a4a7422117",
   "metadata": {},
   "outputs": [],
   "source": [
    "# Export the new dataframe\n",
    "df_excluded.to_pickle(os.path.join(path, '02 Data','Prepared Data', 'low_activity_excluded.pkl'))"
   ]
  },
  {
   "cell_type": "code",
   "execution_count": 30,
   "id": "20e43164-811a-4872-85c0-d3939f9644f1",
   "metadata": {},
   "outputs": [],
   "source": [
    "# import dataframe\n",
    "df_excluded = pd.read_pickle(os.path.join(path, '02 Data', 'Prepared Data', 'low_activity_excluded.pkl'))"
   ]
  },
  {
   "cell_type": "code",
   "execution_count": 31,
   "id": "4d3c9105-7723-4dad-8355-7ba9fc0d43c8",
   "metadata": {},
   "outputs": [
    {
     "data": {
      "text/plain": [
       "['order_id',\n",
       " 'user_id',\n",
       " 'order_number',\n",
       " 'orders_day_of_week',\n",
       " 'order_hour_of_day',\n",
       " 'days_since_prior_order',\n",
       " 'product_id',\n",
       " 'add_to_cart_order',\n",
       " 'reordered',\n",
       " 'product_name',\n",
       " 'aisle_id',\n",
       " 'department_id',\n",
       " 'prices',\n",
       " '_merge',\n",
       " 'price_range_loc',\n",
       " 'busiest_day',\n",
       " 'busiest_days',\n",
       " 'busiest_period_of_day',\n",
       " 'max_order',\n",
       " 'loyalty_flag',\n",
       " 'avg_product_price',\n",
       " 'spending_flag',\n",
       " 'median_days_between_orders',\n",
       " 'order_frequency_flag',\n",
       " 'First Name',\n",
       " 'Last Name',\n",
       " 'Gender',\n",
       " 'State',\n",
       " 'Age',\n",
       " 'Date Joined',\n",
       " 'Number of Dependents',\n",
       " 'Family Status',\n",
       " 'Income',\n",
       " 'Region',\n",
       " 'Activity_flag',\n",
       " 'age_group',\n",
       " 'income_group',\n",
       " 'dependants_flag']"
      ]
     },
     "execution_count": 31,
     "metadata": {},
     "output_type": "execute_result"
    }
   ],
   "source": [
    "list(df_excluded.columns.values)"
   ]
  },
  {
   "cell_type": "markdown",
   "id": "844de9f0-4722-460d-bcc7-e51e1efbf1a9",
   "metadata": {},
   "source": [
    "## Loyalty vs Age Group"
   ]
  },
  {
   "cell_type": "code",
   "execution_count": 32,
   "id": "2899c42b-a679-4868-822d-614ebca6ddb8",
   "metadata": {},
   "outputs": [
    {
     "data": {
      "text/html": [
       "<div>\n",
       "<style scoped>\n",
       "    .dataframe tbody tr th:only-of-type {\n",
       "        vertical-align: middle;\n",
       "    }\n",
       "\n",
       "    .dataframe tbody tr th {\n",
       "        vertical-align: top;\n",
       "    }\n",
       "\n",
       "    .dataframe thead th {\n",
       "        text-align: right;\n",
       "    }\n",
       "</style>\n",
       "<table border=\"1\" class=\"dataframe\">\n",
       "  <thead>\n",
       "    <tr style=\"text-align: right;\">\n",
       "      <th>age_group</th>\n",
       "      <th>adult</th>\n",
       "      <th>middle-aged</th>\n",
       "      <th>senior</th>\n",
       "      <th>young adult</th>\n",
       "    </tr>\n",
       "    <tr>\n",
       "      <th>loyalty_flag</th>\n",
       "      <th></th>\n",
       "      <th></th>\n",
       "      <th></th>\n",
       "      <th></th>\n",
       "    </tr>\n",
       "  </thead>\n",
       "  <tbody>\n",
       "    <tr>\n",
       "      <th>Loyal customer</th>\n",
       "      <td>3048175</td>\n",
       "      <td>3231509</td>\n",
       "      <td>2723958</td>\n",
       "      <td>1280451</td>\n",
       "    </tr>\n",
       "    <tr>\n",
       "      <th>New customer</th>\n",
       "      <td>1850952</td>\n",
       "      <td>1956310</td>\n",
       "      <td>1656199</td>\n",
       "      <td>780529</td>\n",
       "    </tr>\n",
       "    <tr>\n",
       "      <th>Regular customer</th>\n",
       "      <td>4745768</td>\n",
       "      <td>4951872</td>\n",
       "      <td>4194927</td>\n",
       "      <td>1984209</td>\n",
       "    </tr>\n",
       "  </tbody>\n",
       "</table>\n",
       "</div>"
      ],
      "text/plain": [
       "age_group           adult  middle-aged   senior  young adult\n",
       "loyalty_flag                                                \n",
       "Loyal customer    3048175      3231509  2723958      1280451\n",
       "New customer      1850952      1956310  1656199       780529\n",
       "Regular customer  4745768      4951872  4194927      1984209"
      ]
     },
     "execution_count": 32,
     "metadata": {},
     "output_type": "execute_result"
    }
   ],
   "source": [
    "# Crosstab loyalty with age group\n",
    "loyalty_age_cross = pd.crosstab(df_excluded['loyalty_flag'], df_excluded['age_group'], dropna = False)\n",
    "loyalty_age_cross"
   ]
  },
  {
   "cell_type": "code",
   "execution_count": 33,
   "id": "f4b7701a-dedf-4733-a60e-dbe8efba1a0a",
   "metadata": {},
   "outputs": [
    {
     "data": {
      "text/plain": [
       "(array([0, 1, 2]),\n",
       " [Text(0, 0, 'Loyal customer'),\n",
       "  Text(1, 0, 'New customer'),\n",
       "  Text(2, 0, 'Regular customer')])"
      ]
     },
     "execution_count": 33,
     "metadata": {},
     "output_type": "execute_result"
    },
    {
     "data": {
      "image/png": "[encoded data removed]",
      "text/plain": [
       "<Figure size 640x480 with 1 Axes>"
      ]
     },
     "metadata": {},
     "output_type": "display_data"
    }
   ],
   "source": [
    "# bar chart\n",
    "loyalty_age_bar = loyalty_age_cross.plot.bar()\n",
    "plt.title('Loyalty by Age Group')\n",
    "plt.xlabel('')\n",
    "plt.ylabel('count')\n",
    "plt.xticks(rotation=0)"
   ]
  },
  {
   "cell_type": "code",
   "execution_count": 34,
   "id": "e61f65e3-c957-4e6f-bf4d-4355035fa48c",
   "metadata": {},
   "outputs": [],
   "source": [
    "# Export the chart\n",
    "loyalty_age_bar.figure.savefig(os.path.join(path, '04 Analysis','Visualizations', 'loyalty_age_group_bar.png'))"
   ]
  },
  {
   "cell_type": "markdown",
   "id": "15b458b0-2ee5-49a3-a0ad-26586b526dd3",
   "metadata": {},
   "source": [
    "## Spending vs Age Group"
   ]
  },
  {
   "cell_type": "code",
   "execution_count": 35,
   "id": "7a029525-96ed-4f7c-a058-3533cd344f8e",
   "metadata": {},
   "outputs": [
    {
     "data": {
      "text/html": [
       "<div>\n",
       "<style scoped>\n",
       "    .dataframe tbody tr th:only-of-type {\n",
       "        vertical-align: middle;\n",
       "    }\n",
       "\n",
       "    .dataframe tbody tr th {\n",
       "        vertical-align: top;\n",
       "    }\n",
       "\n",
       "    .dataframe thead th {\n",
       "        text-align: right;\n",
       "    }\n",
       "</style>\n",
       "<table border=\"1\" class=\"dataframe\">\n",
       "  <thead>\n",
       "    <tr style=\"text-align: right;\">\n",
       "      <th>age_group</th>\n",
       "      <th>adult</th>\n",
       "      <th>middle-aged</th>\n",
       "      <th>senior</th>\n",
       "      <th>young adult</th>\n",
       "    </tr>\n",
       "    <tr>\n",
       "      <th>spending_flag</th>\n",
       "      <th></th>\n",
       "      <th></th>\n",
       "      <th></th>\n",
       "      <th></th>\n",
       "    </tr>\n",
       "  </thead>\n",
       "  <tbody>\n",
       "    <tr>\n",
       "      <th>High spender</th>\n",
       "      <td>183932</td>\n",
       "      <td>208345</td>\n",
       "      <td>163994</td>\n",
       "      <td>77974</td>\n",
       "    </tr>\n",
       "    <tr>\n",
       "      <th>Low spender</th>\n",
       "      <td>9460963</td>\n",
       "      <td>9931346</td>\n",
       "      <td>8411090</td>\n",
       "      <td>3967215</td>\n",
       "    </tr>\n",
       "  </tbody>\n",
       "</table>\n",
       "</div>"
      ],
      "text/plain": [
       "age_group        adult  middle-aged   senior  young adult\n",
       "spending_flag                                            \n",
       "High spender    183932       208345   163994        77974\n",
       "Low spender    9460963      9931346  8411090      3967215"
      ]
     },
     "execution_count": 35,
     "metadata": {},
     "output_type": "execute_result"
    }
   ],
   "source": [
    "# Crosstab spending with age group\n",
    "spending_age_cross = pd.crosstab(df_excluded['spending_flag'], df_excluded['age_group'], dropna = False)\n",
    "spending_age_cross"
   ]
  },
  {
   "cell_type": "code",
   "execution_count": 36,
   "id": "817b4886-8275-4451-ade7-bb9503650e3a",
   "metadata": {},
   "outputs": [
    {
     "data": {
      "text/plain": [
       "(array([0, 1]), [Text(0, 0, 'High spender'), Text(1, 0, 'Low spender')])"
      ]
     },
     "execution_count": 36,
     "metadata": {},
     "output_type": "execute_result"
    },
    {
     "data": {
      "image/png": "[encoded data removed]",
      "text/plain": [
       "<Figure size 640x480 with 1 Axes>"
      ]
     },
     "metadata": {},
     "output_type": "display_data"
    }
   ],
   "source": [
    "# bar chart\n",
    "spending_age_bar = spending_age_cross.plot.bar()\n",
    "plt.title('Spending by Age Group')\n",
    "plt.xlabel('')\n",
    "plt.ylabel('count')\n",
    "plt.xticks(rotation=0)"
   ]
  },
  {
   "cell_type": "code",
   "execution_count": 37,
   "id": "81cbaa62-99bf-4684-9933-34fa81779607",
   "metadata": {},
   "outputs": [],
   "source": [
    "# Export the chart\n",
    "spending_age_bar.figure.savefig(os.path.join(path, '04 Analysis','Visualizations', 'spending_age_group_bar.png'))"
   ]
  },
  {
   "cell_type": "markdown",
   "id": "995ba37b-1cd5-4992-9cd7-ef54f0f5d20f",
   "metadata": {},
   "source": [
    "## Redo regional spending with low activity customers excluded"
   ]
  },
  {
   "cell_type": "code",
   "execution_count": 38,
   "id": "cc7b3cf9-d97b-4da2-9711-3a404e767e65",
   "metadata": {},
   "outputs": [],
   "source": [
    "df_excluded.loc[df_excluded['State'] == 'Pennsylvania', 'Region'] = 'Northeast'"
   ]
  },
  {
   "cell_type": "code",
   "execution_count": 39,
   "id": "693ecd86-46f8-4687-b4b4-ed4653efa820",
   "metadata": {},
   "outputs": [],
   "source": [
    "# Crosstab Region to spending flag\n",
    "region_spending_cross = pd.crosstab(df_excluded['Region'], df_excluded['spending_flag'], dropna = False)"
   ]
  },
  {
   "cell_type": "code",
   "execution_count": 40,
   "id": "9e26dae7-9f59-4bd0-985e-3fc61f02268d",
   "metadata": {},
   "outputs": [
    {
     "data": {
      "text/html": [
       "<div>\n",
       "<style scoped>\n",
       "    .dataframe tbody tr th:only-of-type {\n",
       "        vertical-align: middle;\n",
       "    }\n",
       "\n",
       "    .dataframe tbody tr th {\n",
       "        vertical-align: top;\n",
       "    }\n",
       "\n",
       "    .dataframe thead th {\n",
       "        text-align: right;\n",
       "    }\n",
       "</style>\n",
       "<table border=\"1\" class=\"dataframe\">\n",
       "  <thead>\n",
       "    <tr style=\"text-align: right;\">\n",
       "      <th>spending_flag</th>\n",
       "      <th>High spender</th>\n",
       "      <th>Low spender</th>\n",
       "    </tr>\n",
       "    <tr>\n",
       "      <th>Region</th>\n",
       "      <th></th>\n",
       "      <th></th>\n",
       "    </tr>\n",
       "  </thead>\n",
       "  <tbody>\n",
       "    <tr>\n",
       "      <th>Midwest</th>\n",
       "      <td>155975</td>\n",
       "      <td>7441350</td>\n",
       "    </tr>\n",
       "    <tr>\n",
       "      <th>Northeast</th>\n",
       "      <td>87501</td>\n",
       "      <td>4371560</td>\n",
       "    </tr>\n",
       "    <tr>\n",
       "      <th>South</th>\n",
       "      <td>209691</td>\n",
       "      <td>10582194</td>\n",
       "    </tr>\n",
       "    <tr>\n",
       "      <th>West</th>\n",
       "      <td>160354</td>\n",
       "      <td>8132559</td>\n",
       "    </tr>\n",
       "    <tr>\n",
       "      <th>NaN</th>\n",
       "      <td>20724</td>\n",
       "      <td>1242951</td>\n",
       "    </tr>\n",
       "  </tbody>\n",
       "</table>\n",
       "</div>"
      ],
      "text/plain": [
       "spending_flag  High spender  Low spender\n",
       "Region                                  \n",
       "Midwest              155975      7441350\n",
       "Northeast             87501      4371560\n",
       "South                209691     10582194\n",
       "West                 160354      8132559\n",
       "NaN                   20724      1242951"
      ]
     },
     "execution_count": 40,
     "metadata": {},
     "output_type": "execute_result"
    }
   ],
   "source": [
    "region_spending_cross"
   ]
  },
  {
   "cell_type": "code",
   "execution_count": 41,
   "id": "a59307f5-4d21-407f-aa55-538d53ce0f42",
   "metadata": {},
   "outputs": [
    {
     "data": {
      "text/plain": [
       "(array([0, 1, 2, 3, 4]),\n",
       " [Text(0, 0, 'Midwest'),\n",
       "  Text(1, 0, 'Northeast'),\n",
       "  Text(2, 0, 'South'),\n",
       "  Text(3, 0, 'West'),\n",
       "  Text(4, 0, 'nan')])"
      ]
     },
     "execution_count": 41,
     "metadata": {},
     "output_type": "execute_result"
    },
    {
     "data": {
      "image/png": "[encoded data removed]",
      "text/plain": [
       "<Figure size 640x480 with 1 Axes>"
      ]
     },
     "metadata": {},
     "output_type": "display_data"
    }
   ],
   "source": [
    "# bar chart\n",
    "region_spending_bar = region_spending_cross.plot.bar()\n",
    "plt.title('Spending by Region')\n",
    "plt.xlabel('')\n",
    "plt.ylabel('count')\n",
    "plt.xticks(rotation=0)"
   ]
  },
  {
   "cell_type": "code",
   "execution_count": 42,
   "id": "cca668c3-2a5e-40dd-8f10-476c1c4b6aa5",
   "metadata": {},
   "outputs": [],
   "source": [
    "# Export the chart\n",
    "region_spending_bar.figure.savefig(os.path.join(path, '04 Analysis','Visualizations', 'region_spending_bar.png'))"
   ]
  },
  {
   "cell_type": "markdown",
   "id": "7532d461-c291-4a48-a1fd-0f7429cd7ae9",
   "metadata": {},
   "source": [
    "## Orders by Department"
   ]
  },
  {
   "cell_type": "code",
   "execution_count": 43,
   "id": "c0bb69bb-52d4-4323-b8a3-9baee61f6f70",
   "metadata": {},
   "outputs": [],
   "source": [
    "# Import departments dataframe\n",
    "dept = pd.read_csv(os.path.join(path, '02 Data', 'Prepared Data', 'departments_wrangled.csv'))"
   ]
  },
  {
   "cell_type": "code",
   "execution_count": 44,
   "id": "51c13145-f171-4d5a-b1b2-31aa9e08d864",
   "metadata": {},
   "outputs": [
    {
     "data": {
      "text/html": [
       "<div>\n",
       "<style scoped>\n",
       "    .dataframe tbody tr th:only-of-type {\n",
       "        vertical-align: middle;\n",
       "    }\n",
       "\n",
       "    .dataframe tbody tr th {\n",
       "        vertical-align: top;\n",
       "    }\n",
       "\n",
       "    .dataframe thead th {\n",
       "        text-align: right;\n",
       "    }\n",
       "</style>\n",
       "<table border=\"1\" class=\"dataframe\">\n",
       "  <thead>\n",
       "    <tr style=\"text-align: right;\">\n",
       "      <th></th>\n",
       "      <th>department_id</th>\n",
       "      <th>department</th>\n",
       "    </tr>\n",
       "  </thead>\n",
       "  <tbody>\n",
       "    <tr>\n",
       "      <th>0</th>\n",
       "      <td>1</td>\n",
       "      <td>frozen</td>\n",
       "    </tr>\n",
       "    <tr>\n",
       "      <th>1</th>\n",
       "      <td>2</td>\n",
       "      <td>other</td>\n",
       "    </tr>\n",
       "    <tr>\n",
       "      <th>2</th>\n",
       "      <td>3</td>\n",
       "      <td>bakery</td>\n",
       "    </tr>\n",
       "    <tr>\n",
       "      <th>3</th>\n",
       "      <td>4</td>\n",
       "      <td>produce</td>\n",
       "    </tr>\n",
       "    <tr>\n",
       "      <th>4</th>\n",
       "      <td>5</td>\n",
       "      <td>alcohol</td>\n",
       "    </tr>\n",
       "    <tr>\n",
       "      <th>5</th>\n",
       "      <td>6</td>\n",
       "      <td>international</td>\n",
       "    </tr>\n",
       "    <tr>\n",
       "      <th>6</th>\n",
       "      <td>7</td>\n",
       "      <td>beverages</td>\n",
       "    </tr>\n",
       "    <tr>\n",
       "      <th>7</th>\n",
       "      <td>8</td>\n",
       "      <td>pets</td>\n",
       "    </tr>\n",
       "    <tr>\n",
       "      <th>8</th>\n",
       "      <td>9</td>\n",
       "      <td>dry goods pasta</td>\n",
       "    </tr>\n",
       "    <tr>\n",
       "      <th>9</th>\n",
       "      <td>10</td>\n",
       "      <td>bulk</td>\n",
       "    </tr>\n",
       "    <tr>\n",
       "      <th>10</th>\n",
       "      <td>11</td>\n",
       "      <td>personal care</td>\n",
       "    </tr>\n",
       "    <tr>\n",
       "      <th>11</th>\n",
       "      <td>12</td>\n",
       "      <td>meat seafood</td>\n",
       "    </tr>\n",
       "    <tr>\n",
       "      <th>12</th>\n",
       "      <td>13</td>\n",
       "      <td>pantry</td>\n",
       "    </tr>\n",
       "    <tr>\n",
       "      <th>13</th>\n",
       "      <td>14</td>\n",
       "      <td>breakfast</td>\n",
       "    </tr>\n",
       "    <tr>\n",
       "      <th>14</th>\n",
       "      <td>15</td>\n",
       "      <td>canned goods</td>\n",
       "    </tr>\n",
       "    <tr>\n",
       "      <th>15</th>\n",
       "      <td>16</td>\n",
       "      <td>dairy eggs</td>\n",
       "    </tr>\n",
       "    <tr>\n",
       "      <th>16</th>\n",
       "      <td>17</td>\n",
       "      <td>household</td>\n",
       "    </tr>\n",
       "    <tr>\n",
       "      <th>17</th>\n",
       "      <td>18</td>\n",
       "      <td>babies</td>\n",
       "    </tr>\n",
       "    <tr>\n",
       "      <th>18</th>\n",
       "      <td>19</td>\n",
       "      <td>snacks</td>\n",
       "    </tr>\n",
       "    <tr>\n",
       "      <th>19</th>\n",
       "      <td>20</td>\n",
       "      <td>deli</td>\n",
       "    </tr>\n",
       "    <tr>\n",
       "      <th>20</th>\n",
       "      <td>21</td>\n",
       "      <td>missing</td>\n",
       "    </tr>\n",
       "  </tbody>\n",
       "</table>\n",
       "</div>"
      ],
      "text/plain": [
       "    department_id       department\n",
       "0               1           frozen\n",
       "1               2            other\n",
       "2               3           bakery\n",
       "3               4          produce\n",
       "4               5          alcohol\n",
       "5               6    international\n",
       "6               7        beverages\n",
       "7               8             pets\n",
       "8               9  dry goods pasta\n",
       "9              10             bulk\n",
       "10             11    personal care\n",
       "11             12     meat seafood\n",
       "12             13           pantry\n",
       "13             14        breakfast\n",
       "14             15     canned goods\n",
       "15             16       dairy eggs\n",
       "16             17        household\n",
       "17             18           babies\n",
       "18             19           snacks\n",
       "19             20             deli\n",
       "20             21          missing"
      ]
     },
     "execution_count": 44,
     "metadata": {},
     "output_type": "execute_result"
    }
   ],
   "source": [
    "dept"
   ]
  },
  {
   "cell_type": "code",
   "execution_count": 50,
   "id": "4919bc84-e968-423e-a7f5-4373324e778d",
   "metadata": {},
   "outputs": [],
   "source": [
    "df_final_merged = df_excluded.merge(dept, on='department_id', indicator='created')"
   ]
  },
  {
   "cell_type": "code",
   "execution_count": 51,
   "id": "d2186eaa-50e7-43bc-bee5-cd25d11dbaeb",
   "metadata": {},
   "outputs": [],
   "source": [
    "# Exporting new dataframe with department merged \n",
    "df_final_merged.to_pickle(os.path.join(path,'02 Data','Prepared Data','orders_products_customers_departments.pkl'))"
   ]
  },
  {
   "cell_type": "code",
   "execution_count": 52,
   "id": "ac87394a-f4eb-4648-adb9-e03b0ba0e047",
   "metadata": {},
   "outputs": [
    {
     "data": {
      "image/png": "[encoded data removed]",
      "text/plain": [
       "<Figure size 640x480 with 1 Axes>"
      ]
     },
     "metadata": {},
     "output_type": "display_data"
    }
   ],
   "source": [
    "# bar chart frequency of orders vs department\n",
    "depts_bar = df_final_merged['department'].value_counts(ascending=True).plot(kind='barh', color='blue', xlabel = 'Count', title='Products Ordered by Department')"
   ]
  },
  {
   "cell_type": "code",
   "execution_count": 53,
   "id": "88ec14dc-a6b7-488f-8345-24a54eba287f",
   "metadata": {},
   "outputs": [],
   "source": [
    "# Export bar chart\n",
    "depts_bar.figure.savefig(os.path.join(path, '04 Analysis','Visualizations', 'depts_bar.png'))"
   ]
  },
  {
   "cell_type": "markdown",
   "id": "5a2d394a-9e2e-4c4b-9b58-9d617a212e85",
   "metadata": {},
   "source": [
    "## Age vs Department"
   ]
  },
  {
   "cell_type": "code",
   "execution_count": 54,
   "id": "4d1ab7ae-6840-4994-b120-b5fed1db435d",
   "metadata": {},
   "outputs": [
    {
     "data": {
      "text/html": [
       "<div>\n",
       "<style scoped>\n",
       "    .dataframe tbody tr th:only-of-type {\n",
       "        vertical-align: middle;\n",
       "    }\n",
       "\n",
       "    .dataframe tbody tr th {\n",
       "        vertical-align: top;\n",
       "    }\n",
       "\n",
       "    .dataframe thead th {\n",
       "        text-align: right;\n",
       "    }\n",
       "</style>\n",
       "<table border=\"1\" class=\"dataframe\">\n",
       "  <thead>\n",
       "    <tr style=\"text-align: right;\">\n",
       "      <th>department</th>\n",
       "      <th>alcohol</th>\n",
       "      <th>babies</th>\n",
       "      <th>bakery</th>\n",
       "      <th>beverages</th>\n",
       "      <th>breakfast</th>\n",
       "      <th>bulk</th>\n",
       "      <th>canned goods</th>\n",
       "      <th>dairy eggs</th>\n",
       "      <th>deli</th>\n",
       "      <th>dry goods pasta</th>\n",
       "      <th>...</th>\n",
       "      <th>household</th>\n",
       "      <th>international</th>\n",
       "      <th>meat seafood</th>\n",
       "      <th>missing</th>\n",
       "      <th>other</th>\n",
       "      <th>pantry</th>\n",
       "      <th>personal care</th>\n",
       "      <th>pets</th>\n",
       "      <th>produce</th>\n",
       "      <th>snacks</th>\n",
       "    </tr>\n",
       "    <tr>\n",
       "      <th>age_group</th>\n",
       "      <th></th>\n",
       "      <th></th>\n",
       "      <th></th>\n",
       "      <th></th>\n",
       "      <th></th>\n",
       "      <th></th>\n",
       "      <th></th>\n",
       "      <th></th>\n",
       "      <th></th>\n",
       "      <th></th>\n",
       "      <th></th>\n",
       "      <th></th>\n",
       "      <th></th>\n",
       "      <th></th>\n",
       "      <th></th>\n",
       "      <th></th>\n",
       "      <th></th>\n",
       "      <th></th>\n",
       "      <th></th>\n",
       "      <th></th>\n",
       "      <th></th>\n",
       "    </tr>\n",
       "  </thead>\n",
       "  <tbody>\n",
       "    <tr>\n",
       "      <th>adult</th>\n",
       "      <td>44890</td>\n",
       "      <td>127238</td>\n",
       "      <td>349788</td>\n",
       "      <td>789244</td>\n",
       "      <td>208477</td>\n",
       "      <td>10271</td>\n",
       "      <td>319096</td>\n",
       "      <td>1615921</td>\n",
       "      <td>313917</td>\n",
       "      <td>256969</td>\n",
       "      <td>...</td>\n",
       "      <td>219146</td>\n",
       "      <td>80649</td>\n",
       "      <td>209439</td>\n",
       "      <td>20381</td>\n",
       "      <td>10730</td>\n",
       "      <td>556843</td>\n",
       "      <td>132443</td>\n",
       "      <td>28324</td>\n",
       "      <td>2832448</td>\n",
       "      <td>860333</td>\n",
       "    </tr>\n",
       "    <tr>\n",
       "      <th>middle-aged</th>\n",
       "      <td>49359</td>\n",
       "      <td>134108</td>\n",
       "      <td>366692</td>\n",
       "      <td>850960</td>\n",
       "      <td>221198</td>\n",
       "      <td>10638</td>\n",
       "      <td>333034</td>\n",
       "      <td>1681753</td>\n",
       "      <td>329214</td>\n",
       "      <td>270914</td>\n",
       "      <td>...</td>\n",
       "      <td>230912</td>\n",
       "      <td>83793</td>\n",
       "      <td>220521</td>\n",
       "      <td>21671</td>\n",
       "      <td>11469</td>\n",
       "      <td>587752</td>\n",
       "      <td>141907</td>\n",
       "      <td>29811</td>\n",
       "      <td>2955476</td>\n",
       "      <td>905758</td>\n",
       "    </tr>\n",
       "    <tr>\n",
       "      <th>senior</th>\n",
       "      <td>39036</td>\n",
       "      <td>109445</td>\n",
       "      <td>309522</td>\n",
       "      <td>714832</td>\n",
       "      <td>183844</td>\n",
       "      <td>9242</td>\n",
       "      <td>282438</td>\n",
       "      <td>1426213</td>\n",
       "      <td>277618</td>\n",
       "      <td>228935</td>\n",
       "      <td>...</td>\n",
       "      <td>196935</td>\n",
       "      <td>70774</td>\n",
       "      <td>190114</td>\n",
       "      <td>18094</td>\n",
       "      <td>9425</td>\n",
       "      <td>496979</td>\n",
       "      <td>117405</td>\n",
       "      <td>26286</td>\n",
       "      <td>2513763</td>\n",
       "      <td>760515</td>\n",
       "    </tr>\n",
       "    <tr>\n",
       "      <th>young adult</th>\n",
       "      <td>20411</td>\n",
       "      <td>53011</td>\n",
       "      <td>146426</td>\n",
       "      <td>333087</td>\n",
       "      <td>89514</td>\n",
       "      <td>4422</td>\n",
       "      <td>133490</td>\n",
       "      <td>674860</td>\n",
       "      <td>130500</td>\n",
       "      <td>109809</td>\n",
       "      <td>...</td>\n",
       "      <td>91673</td>\n",
       "      <td>34037</td>\n",
       "      <td>88853</td>\n",
       "      <td>8999</td>\n",
       "      <td>4667</td>\n",
       "      <td>233795</td>\n",
       "      <td>55817</td>\n",
       "      <td>13295</td>\n",
       "      <td>1177604</td>\n",
       "      <td>360944</td>\n",
       "    </tr>\n",
       "  </tbody>\n",
       "</table>\n",
       "<p>4 rows × 21 columns</p>\n",
       "</div>"
      ],
      "text/plain": [
       "department   alcohol  babies  bakery  beverages  breakfast   bulk  \\\n",
       "age_group                                                           \n",
       "adult          44890  127238  349788     789244     208477  10271   \n",
       "middle-aged    49359  134108  366692     850960     221198  10638   \n",
       "senior         39036  109445  309522     714832     183844   9242   \n",
       "young adult    20411   53011  146426     333087      89514   4422   \n",
       "\n",
       "department   canned goods  dairy eggs    deli  dry goods pasta  ...  \\\n",
       "age_group                                                       ...   \n",
       "adult              319096     1615921  313917           256969  ...   \n",
       "middle-aged        333034     1681753  329214           270914  ...   \n",
       "senior             282438     1426213  277618           228935  ...   \n",
       "young adult        133490      674860  130500           109809  ...   \n",
       "\n",
       "department   household  international  meat seafood  missing  other  pantry  \\\n",
       "age_group                                                                     \n",
       "adult           219146          80649        209439    20381  10730  556843   \n",
       "middle-aged     230912          83793        220521    21671  11469  587752   \n",
       "senior          196935          70774        190114    18094   9425  496979   \n",
       "young adult      91673          34037         88853     8999   4667  233795   \n",
       "\n",
       "department   personal care   pets  produce  snacks  \n",
       "age_group                                           \n",
       "adult               132443  28324  2832448  860333  \n",
       "middle-aged         141907  29811  2955476  905758  \n",
       "senior              117405  26286  2513763  760515  \n",
       "young adult          55817  13295  1177604  360944  \n",
       "\n",
       "[4 rows x 21 columns]"
      ]
     },
     "execution_count": 54,
     "metadata": {},
     "output_type": "execute_result"
    }
   ],
   "source": [
    "#crosstab age group vs department\n",
    "age_dept_cross = pd.crosstab(df_final_merged['age_group'], df_final_merged['department'], dropna = False)\n",
    "age_dept_cross"
   ]
  },
  {
   "cell_type": "code",
   "execution_count": 55,
   "id": "adce5472-1260-4eeb-86ae-c01cf6a2be6c",
   "metadata": {},
   "outputs": [
    {
     "data": {
      "text/plain": [
       "<matplotlib.legend.Legend at 0x21a8366f830>"
      ]
     },
     "execution_count": 55,
     "metadata": {},
     "output_type": "execute_result"
    },
    {
     "data": {
      "image/png": "[encoded data removed]",
      "text/plain": [
       "<Figure size 1400x1000 with 1 Axes>"
      ]
     },
     "metadata": {},
     "output_type": "display_data"
    }
   ],
   "source": [
    "# bar chart\n",
    "age_dept_bar = age_dept_cross.plot(kind = 'barh', figsize=(14,10))\n",
    "plt.title('Department Sales by Age Group')\n",
    "plt.xlabel('products count')\n",
    "plt.ylabel('age group')\n",
    "# Move legend outside of plot\n",
    "plt.legend(title='Department', bbox_to_anchor=(1.05, 1), loc='upper left', fontsize=12, title_fontsize=14)"
   ]
  },
  {
   "cell_type": "code",
   "execution_count": 56,
   "id": "f2410abc-aac0-4933-8252-236839c952fc",
   "metadata": {},
   "outputs": [],
   "source": [
    "# Export bar chart\n",
    "age_dept_bar.figure.savefig(os.path.join(path, '04 Analysis','Visualizations', 'age_depts_bar.png'))"
   ]
  },
  {
   "cell_type": "markdown",
   "id": "7434b8b6-c5ff-41e4-aabb-0654c11b7796",
   "metadata": {},
   "source": [
    "## Income vs Department"
   ]
  },
  {
   "cell_type": "code",
   "execution_count": 57,
   "id": "ad85eb93-9f50-4c99-b6ca-76c8c41a6bdb",
   "metadata": {},
   "outputs": [
    {
     "data": {
      "text/html": [
       "<div>\n",
       "<style scoped>\n",
       "    .dataframe tbody tr th:only-of-type {\n",
       "        vertical-align: middle;\n",
       "    }\n",
       "\n",
       "    .dataframe tbody tr th {\n",
       "        vertical-align: top;\n",
       "    }\n",
       "\n",
       "    .dataframe thead th {\n",
       "        text-align: right;\n",
       "    }\n",
       "</style>\n",
       "<table border=\"1\" class=\"dataframe\">\n",
       "  <thead>\n",
       "    <tr style=\"text-align: right;\">\n",
       "      <th>department</th>\n",
       "      <th>alcohol</th>\n",
       "      <th>babies</th>\n",
       "      <th>bakery</th>\n",
       "      <th>beverages</th>\n",
       "      <th>breakfast</th>\n",
       "      <th>bulk</th>\n",
       "      <th>canned goods</th>\n",
       "      <th>dairy eggs</th>\n",
       "      <th>deli</th>\n",
       "      <th>dry goods pasta</th>\n",
       "      <th>...</th>\n",
       "      <th>household</th>\n",
       "      <th>international</th>\n",
       "      <th>meat seafood</th>\n",
       "      <th>missing</th>\n",
       "      <th>other</th>\n",
       "      <th>pantry</th>\n",
       "      <th>personal care</th>\n",
       "      <th>pets</th>\n",
       "      <th>produce</th>\n",
       "      <th>snacks</th>\n",
       "    </tr>\n",
       "    <tr>\n",
       "      <th>income_group</th>\n",
       "      <th></th>\n",
       "      <th></th>\n",
       "      <th></th>\n",
       "      <th></th>\n",
       "      <th></th>\n",
       "      <th></th>\n",
       "      <th></th>\n",
       "      <th></th>\n",
       "      <th></th>\n",
       "      <th></th>\n",
       "      <th></th>\n",
       "      <th></th>\n",
       "      <th></th>\n",
       "      <th></th>\n",
       "      <th></th>\n",
       "      <th></th>\n",
       "      <th></th>\n",
       "      <th></th>\n",
       "      <th></th>\n",
       "      <th></th>\n",
       "      <th></th>\n",
       "    </tr>\n",
       "  </thead>\n",
       "  <tbody>\n",
       "    <tr>\n",
       "      <th>high-income</th>\n",
       "      <td>24953</td>\n",
       "      <td>54433</td>\n",
       "      <td>154040</td>\n",
       "      <td>325093</td>\n",
       "      <td>86853</td>\n",
       "      <td>3773</td>\n",
       "      <td>138733</td>\n",
       "      <td>684241</td>\n",
       "      <td>130995</td>\n",
       "      <td>111248</td>\n",
       "      <td>...</td>\n",
       "      <td>96776</td>\n",
       "      <td>34283</td>\n",
       "      <td>95722</td>\n",
       "      <td>8738</td>\n",
       "      <td>4749</td>\n",
       "      <td>242268</td>\n",
       "      <td>56053</td>\n",
       "      <td>13514</td>\n",
       "      <td>1179115</td>\n",
       "      <td>316968</td>\n",
       "    </tr>\n",
       "    <tr>\n",
       "      <th>low-income</th>\n",
       "      <td>24324</td>\n",
       "      <td>45598</td>\n",
       "      <td>154056</td>\n",
       "      <td>506792</td>\n",
       "      <td>123852</td>\n",
       "      <td>6226</td>\n",
       "      <td>122799</td>\n",
       "      <td>721677</td>\n",
       "      <td>151289</td>\n",
       "      <td>100274</td>\n",
       "      <td>...</td>\n",
       "      <td>120045</td>\n",
       "      <td>32567</td>\n",
       "      <td>58660</td>\n",
       "      <td>9760</td>\n",
       "      <td>5334</td>\n",
       "      <td>243175</td>\n",
       "      <td>67793</td>\n",
       "      <td>12664</td>\n",
       "      <td>1210629</td>\n",
       "      <td>711874</td>\n",
       "    </tr>\n",
       "    <tr>\n",
       "      <th>middle-income</th>\n",
       "      <td>104419</td>\n",
       "      <td>323771</td>\n",
       "      <td>864332</td>\n",
       "      <td>1856238</td>\n",
       "      <td>492328</td>\n",
       "      <td>24574</td>\n",
       "      <td>806526</td>\n",
       "      <td>3992829</td>\n",
       "      <td>768965</td>\n",
       "      <td>655105</td>\n",
       "      <td>...</td>\n",
       "      <td>521845</td>\n",
       "      <td>202403</td>\n",
       "      <td>554545</td>\n",
       "      <td>50647</td>\n",
       "      <td>26208</td>\n",
       "      <td>1389926</td>\n",
       "      <td>323726</td>\n",
       "      <td>71538</td>\n",
       "      <td>7089547</td>\n",
       "      <td>1858708</td>\n",
       "    </tr>\n",
       "  </tbody>\n",
       "</table>\n",
       "<p>3 rows × 21 columns</p>\n",
       "</div>"
      ],
      "text/plain": [
       "department     alcohol  babies  bakery  beverages  breakfast   bulk  \\\n",
       "income_group                                                          \n",
       "high-income      24953   54433  154040     325093      86853   3773   \n",
       "low-income       24324   45598  154056     506792     123852   6226   \n",
       "middle-income   104419  323771  864332    1856238     492328  24574   \n",
       "\n",
       "department     canned goods  dairy eggs    deli  dry goods pasta  ...  \\\n",
       "income_group                                                      ...   \n",
       "high-income          138733      684241  130995           111248  ...   \n",
       "low-income           122799      721677  151289           100274  ...   \n",
       "middle-income        806526     3992829  768965           655105  ...   \n",
       "\n",
       "department     household  international  meat seafood  missing  other  \\\n",
       "income_group                                                            \n",
       "high-income        96776          34283         95722     8738   4749   \n",
       "low-income        120045          32567         58660     9760   5334   \n",
       "middle-income     521845         202403        554545    50647  26208   \n",
       "\n",
       "department      pantry  personal care   pets  produce   snacks  \n",
       "income_group                                                    \n",
       "high-income     242268          56053  13514  1179115   316968  \n",
       "low-income      243175          67793  12664  1210629   711874  \n",
       "middle-income  1389926         323726  71538  7089547  1858708  \n",
       "\n",
       "[3 rows x 21 columns]"
      ]
     },
     "execution_count": 57,
     "metadata": {},
     "output_type": "execute_result"
    }
   ],
   "source": [
    "# crosstab income group vs department\n",
    "income_dept_cross = pd.crosstab(df_final_merged['income_group'], df_final_merged['department'], dropna = False)\n",
    "income_dept_cross"
   ]
  },
  {
   "cell_type": "code",
   "execution_count": 59,
   "id": "311ca4e2-a1fb-41ae-822a-cc00725b6c58",
   "metadata": {},
   "outputs": [
    {
     "data": {
      "text/plain": [
       "<matplotlib.legend.Legend at 0x21a8620d160>"
      ]
     },
     "execution_count": 59,
     "metadata": {},
     "output_type": "execute_result"
    },
    {
     "data": {
      "image/png": "[encoded data removed]",
      "text/plain": [
       "<Figure size 1400x1000 with 1 Axes>"
      ]
     },
     "metadata": {},
     "output_type": "display_data"
    }
   ],
   "source": [
    "# bar chart\n",
    "income_dept_bar = income_dept_cross.plot(kind = 'barh', figsize=(14,10))\n",
    "plt.title('Department Sales by Income Group')\n",
    "plt.xlabel('products count')\n",
    "plt.ylabel('income group')\n",
    "plt.legend(title='Department', bbox_to_anchor=(1.05, 1), loc='upper left', fontsize=12, title_fontsize=14)"
   ]
  },
  {
   "cell_type": "code",
   "execution_count": 60,
   "id": "cd8b84cd-355a-40ca-9b9e-a4c2396b7339",
   "metadata": {},
   "outputs": [],
   "source": [
    "# Export bar chart\n",
    "income_dept_bar.figure.savefig(os.path.join(path, '04 Analysis','Visualizations', 'income_depts_bar.png'))"
   ]
  },
  {
   "cell_type": "markdown",
   "id": "df2b9353-3216-448f-b47b-c7a0f80fed98",
   "metadata": {},
   "source": [
    "## Aggregating the max, mean, and min variables on a customer-profile level for usage frequency and expenditure"
   ]
  },
  {
   "cell_type": "code",
   "execution_count": 64,
   "id": "bddbb0e3-39a2-4421-8559-6fdae24a1c04",
   "metadata": {},
   "outputs": [
    {
     "data": {
      "text/html": [
       "<div>\n",
       "<style scoped>\n",
       "    .dataframe tbody tr th:only-of-type {\n",
       "        vertical-align: middle;\n",
       "    }\n",
       "\n",
       "    .dataframe tbody tr th {\n",
       "        vertical-align: top;\n",
       "    }\n",
       "\n",
       "    .dataframe thead th {\n",
       "        text-align: right;\n",
       "    }\n",
       "</style>\n",
       "<table border=\"1\" class=\"dataframe\">\n",
       "  <thead>\n",
       "    <tr style=\"text-align: right;\">\n",
       "      <th></th>\n",
       "      <th>order_id</th>\n",
       "      <th>user_id</th>\n",
       "      <th>order_number</th>\n",
       "      <th>orders_day_of_week</th>\n",
       "      <th>order_hour_of_day</th>\n",
       "      <th>days_since_prior_order</th>\n",
       "      <th>product_id</th>\n",
       "      <th>add_to_cart_order</th>\n",
       "      <th>reordered</th>\n",
       "      <th>product_name</th>\n",
       "      <th>...</th>\n",
       "      <th>Number of Dependents</th>\n",
       "      <th>Family Status</th>\n",
       "      <th>Income</th>\n",
       "      <th>Region</th>\n",
       "      <th>Activity_flag</th>\n",
       "      <th>age_group</th>\n",
       "      <th>income_group</th>\n",
       "      <th>dependants_flag</th>\n",
       "      <th>department</th>\n",
       "      <th>created</th>\n",
       "    </tr>\n",
       "  </thead>\n",
       "  <tbody>\n",
       "    <tr>\n",
       "      <th>0</th>\n",
       "      <td>2539329</td>\n",
       "      <td>1</td>\n",
       "      <td>1</td>\n",
       "      <td>2</td>\n",
       "      <td>8</td>\n",
       "      <td>NaN</td>\n",
       "      <td>196</td>\n",
       "      <td>1</td>\n",
       "      <td>0</td>\n",
       "      <td>Soda</td>\n",
       "      <td>...</td>\n",
       "      <td>3</td>\n",
       "      <td>married</td>\n",
       "      <td>40423</td>\n",
       "      <td>South</td>\n",
       "      <td>High-activity customer</td>\n",
       "      <td>adult</td>\n",
       "      <td>low-income</td>\n",
       "      <td>has dependants</td>\n",
       "      <td>beverages</td>\n",
       "      <td>both</td>\n",
       "    </tr>\n",
       "    <tr>\n",
       "      <th>1</th>\n",
       "      <td>2539329</td>\n",
       "      <td>1</td>\n",
       "      <td>1</td>\n",
       "      <td>2</td>\n",
       "      <td>8</td>\n",
       "      <td>NaN</td>\n",
       "      <td>14084</td>\n",
       "      <td>2</td>\n",
       "      <td>0</td>\n",
       "      <td>Organic Unsweetened Vanilla Almond Milk</td>\n",
       "      <td>...</td>\n",
       "      <td>3</td>\n",
       "      <td>married</td>\n",
       "      <td>40423</td>\n",
       "      <td>South</td>\n",
       "      <td>High-activity customer</td>\n",
       "      <td>adult</td>\n",
       "      <td>low-income</td>\n",
       "      <td>has dependants</td>\n",
       "      <td>dairy eggs</td>\n",
       "      <td>both</td>\n",
       "    </tr>\n",
       "    <tr>\n",
       "      <th>2</th>\n",
       "      <td>2539329</td>\n",
       "      <td>1</td>\n",
       "      <td>1</td>\n",
       "      <td>2</td>\n",
       "      <td>8</td>\n",
       "      <td>NaN</td>\n",
       "      <td>12427</td>\n",
       "      <td>3</td>\n",
       "      <td>0</td>\n",
       "      <td>Original Beef Jerky</td>\n",
       "      <td>...</td>\n",
       "      <td>3</td>\n",
       "      <td>married</td>\n",
       "      <td>40423</td>\n",
       "      <td>South</td>\n",
       "      <td>High-activity customer</td>\n",
       "      <td>adult</td>\n",
       "      <td>low-income</td>\n",
       "      <td>has dependants</td>\n",
       "      <td>snacks</td>\n",
       "      <td>both</td>\n",
       "    </tr>\n",
       "    <tr>\n",
       "      <th>3</th>\n",
       "      <td>2539329</td>\n",
       "      <td>1</td>\n",
       "      <td>1</td>\n",
       "      <td>2</td>\n",
       "      <td>8</td>\n",
       "      <td>NaN</td>\n",
       "      <td>26088</td>\n",
       "      <td>4</td>\n",
       "      <td>0</td>\n",
       "      <td>Aged White Cheddar Popcorn</td>\n",
       "      <td>...</td>\n",
       "      <td>3</td>\n",
       "      <td>married</td>\n",
       "      <td>40423</td>\n",
       "      <td>South</td>\n",
       "      <td>High-activity customer</td>\n",
       "      <td>adult</td>\n",
       "      <td>low-income</td>\n",
       "      <td>has dependants</td>\n",
       "      <td>snacks</td>\n",
       "      <td>both</td>\n",
       "    </tr>\n",
       "    <tr>\n",
       "      <th>4</th>\n",
       "      <td>2539329</td>\n",
       "      <td>1</td>\n",
       "      <td>1</td>\n",
       "      <td>2</td>\n",
       "      <td>8</td>\n",
       "      <td>NaN</td>\n",
       "      <td>26405</td>\n",
       "      <td>5</td>\n",
       "      <td>0</td>\n",
       "      <td>XL Pick-A-Size Paper Towel Rolls</td>\n",
       "      <td>...</td>\n",
       "      <td>3</td>\n",
       "      <td>married</td>\n",
       "      <td>40423</td>\n",
       "      <td>South</td>\n",
       "      <td>High-activity customer</td>\n",
       "      <td>adult</td>\n",
       "      <td>low-income</td>\n",
       "      <td>has dependants</td>\n",
       "      <td>household</td>\n",
       "      <td>both</td>\n",
       "    </tr>\n",
       "  </tbody>\n",
       "</table>\n",
       "<p>5 rows × 40 columns</p>\n",
       "</div>"
      ],
      "text/plain": [
       "   order_id  user_id  order_number  orders_day_of_week  order_hour_of_day  \\\n",
       "0   2539329        1             1                   2                  8   \n",
       "1   2539329        1             1                   2                  8   \n",
       "2   2539329        1             1                   2                  8   \n",
       "3   2539329        1             1                   2                  8   \n",
       "4   2539329        1             1                   2                  8   \n",
       "\n",
       "   days_since_prior_order  product_id  add_to_cart_order  reordered  \\\n",
       "0                     NaN         196                  1          0   \n",
       "1                     NaN       14084                  2          0   \n",
       "2                     NaN       12427                  3          0   \n",
       "3                     NaN       26088                  4          0   \n",
       "4                     NaN       26405                  5          0   \n",
       "\n",
       "                              product_name  ...  Number of Dependents  \\\n",
       "0                                     Soda  ...                     3   \n",
       "1  Organic Unsweetened Vanilla Almond Milk  ...                     3   \n",
       "2                      Original Beef Jerky  ...                     3   \n",
       "3               Aged White Cheddar Popcorn  ...                     3   \n",
       "4         XL Pick-A-Size Paper Towel Rolls  ...                     3   \n",
       "\n",
       "   Family Status  Income Region           Activity_flag age_group  \\\n",
       "0        married   40423  South  High-activity customer     adult   \n",
       "1        married   40423  South  High-activity customer     adult   \n",
       "2        married   40423  South  High-activity customer     adult   \n",
       "3        married   40423  South  High-activity customer     adult   \n",
       "4        married   40423  South  High-activity customer     adult   \n",
       "\n",
       "  income_group dependants_flag  department created  \n",
       "0   low-income  has dependants   beverages    both  \n",
       "1   low-income  has dependants  dairy eggs    both  \n",
       "2   low-income  has dependants      snacks    both  \n",
       "3   low-income  has dependants      snacks    both  \n",
       "4   low-income  has dependants   household    both  \n",
       "\n",
       "[5 rows x 40 columns]"
      ]
     },
     "execution_count": 64,
     "metadata": {},
     "output_type": "execute_result"
    }
   ],
   "source": [
    "df_final_merged.head()"
   ]
  },
  {
   "cell_type": "code",
   "execution_count": 74,
   "id": "7f027aa1-7827-48f7-8d8c-88407f1d9d93",
   "metadata": {},
   "outputs": [],
   "source": [
    "# Create a subset of customer profiles and show the total price of each order\n",
    "customer_profile = df_final_merged.groupby(['user_id', 'Gender', 'State', 'Region', 'Number of Dependents', 'Family Status', 'age_group', 'order_number', 'orders_day_of_week', 'order_hour_of_day', 'loyalty_flag','Activity_flag', 'dependants_flag', 'income_group', 'spending_flag'])['prices'].sum().reset_index()"
   ]
  },
  {
   "cell_type": "code",
   "execution_count": 75,
   "id": "99746a5d-7322-4fc0-9db5-df6d13839505",
   "metadata": {},
   "outputs": [
    {
     "data": {
      "text/html": [
       "<div>\n",
       "<style scoped>\n",
       "    .dataframe tbody tr th:only-of-type {\n",
       "        vertical-align: middle;\n",
       "    }\n",
       "\n",
       "    .dataframe tbody tr th {\n",
       "        vertical-align: top;\n",
       "    }\n",
       "\n",
       "    .dataframe thead th {\n",
       "        text-align: right;\n",
       "    }\n",
       "</style>\n",
       "<table border=\"1\" class=\"dataframe\">\n",
       "  <thead>\n",
       "    <tr style=\"text-align: right;\">\n",
       "      <th></th>\n",
       "      <th>user_id</th>\n",
       "      <th>Gender</th>\n",
       "      <th>State</th>\n",
       "      <th>Region</th>\n",
       "      <th>Number of Dependents</th>\n",
       "      <th>Family Status</th>\n",
       "      <th>age_group</th>\n",
       "      <th>order_number</th>\n",
       "      <th>orders_day_of_week</th>\n",
       "      <th>order_hour_of_day</th>\n",
       "      <th>loyalty_flag</th>\n",
       "      <th>Activity_flag</th>\n",
       "      <th>dependants_flag</th>\n",
       "      <th>income_group</th>\n",
       "      <th>spending_flag</th>\n",
       "      <th>prices</th>\n",
       "    </tr>\n",
       "  </thead>\n",
       "  <tbody>\n",
       "    <tr>\n",
       "      <th>0</th>\n",
       "      <td>1</td>\n",
       "      <td>Female</td>\n",
       "      <td>Alabama</td>\n",
       "      <td>South</td>\n",
       "      <td>3</td>\n",
       "      <td>married</td>\n",
       "      <td>adult</td>\n",
       "      <td>1</td>\n",
       "      <td>2</td>\n",
       "      <td>8</td>\n",
       "      <td>New customer</td>\n",
       "      <td>High-activity customer</td>\n",
       "      <td>has dependants</td>\n",
       "      <td>low-income</td>\n",
       "      <td>Low spender</td>\n",
       "      <td>31.6</td>\n",
       "    </tr>\n",
       "    <tr>\n",
       "      <th>1</th>\n",
       "      <td>1</td>\n",
       "      <td>Female</td>\n",
       "      <td>Alabama</td>\n",
       "      <td>South</td>\n",
       "      <td>3</td>\n",
       "      <td>married</td>\n",
       "      <td>adult</td>\n",
       "      <td>2</td>\n",
       "      <td>3</td>\n",
       "      <td>7</td>\n",
       "      <td>New customer</td>\n",
       "      <td>High-activity customer</td>\n",
       "      <td>has dependants</td>\n",
       "      <td>low-income</td>\n",
       "      <td>Low spender</td>\n",
       "      <td>35.4</td>\n",
       "    </tr>\n",
       "    <tr>\n",
       "      <th>2</th>\n",
       "      <td>1</td>\n",
       "      <td>Female</td>\n",
       "      <td>Alabama</td>\n",
       "      <td>South</td>\n",
       "      <td>3</td>\n",
       "      <td>married</td>\n",
       "      <td>adult</td>\n",
       "      <td>3</td>\n",
       "      <td>3</td>\n",
       "      <td>12</td>\n",
       "      <td>New customer</td>\n",
       "      <td>High-activity customer</td>\n",
       "      <td>has dependants</td>\n",
       "      <td>low-income</td>\n",
       "      <td>Low spender</td>\n",
       "      <td>28.2</td>\n",
       "    </tr>\n",
       "    <tr>\n",
       "      <th>3</th>\n",
       "      <td>1</td>\n",
       "      <td>Female</td>\n",
       "      <td>Alabama</td>\n",
       "      <td>South</td>\n",
       "      <td>3</td>\n",
       "      <td>married</td>\n",
       "      <td>adult</td>\n",
       "      <td>4</td>\n",
       "      <td>4</td>\n",
       "      <td>7</td>\n",
       "      <td>New customer</td>\n",
       "      <td>High-activity customer</td>\n",
       "      <td>has dependants</td>\n",
       "      <td>low-income</td>\n",
       "      <td>Low spender</td>\n",
       "      <td>26.0</td>\n",
       "    </tr>\n",
       "    <tr>\n",
       "      <th>4</th>\n",
       "      <td>1</td>\n",
       "      <td>Female</td>\n",
       "      <td>Alabama</td>\n",
       "      <td>South</td>\n",
       "      <td>3</td>\n",
       "      <td>married</td>\n",
       "      <td>adult</td>\n",
       "      <td>5</td>\n",
       "      <td>4</td>\n",
       "      <td>15</td>\n",
       "      <td>New customer</td>\n",
       "      <td>High-activity customer</td>\n",
       "      <td>has dependants</td>\n",
       "      <td>low-income</td>\n",
       "      <td>Low spender</td>\n",
       "      <td>57.0</td>\n",
       "    </tr>\n",
       "  </tbody>\n",
       "</table>\n",
       "</div>"
      ],
      "text/plain": [
       "   user_id  Gender    State Region  Number of Dependents Family Status  \\\n",
       "0        1  Female  Alabama  South                     3       married   \n",
       "1        1  Female  Alabama  South                     3       married   \n",
       "2        1  Female  Alabama  South                     3       married   \n",
       "3        1  Female  Alabama  South                     3       married   \n",
       "4        1  Female  Alabama  South                     3       married   \n",
       "\n",
       "  age_group  order_number  orders_day_of_week  order_hour_of_day  \\\n",
       "0     adult             1                   2                  8   \n",
       "1     adult             2                   3                  7   \n",
       "2     adult             3                   3                 12   \n",
       "3     adult             4                   4                  7   \n",
       "4     adult             5                   4                 15   \n",
       "\n",
       "   loyalty_flag           Activity_flag dependants_flag income_group  \\\n",
       "0  New customer  High-activity customer  has dependants   low-income   \n",
       "1  New customer  High-activity customer  has dependants   low-income   \n",
       "2  New customer  High-activity customer  has dependants   low-income   \n",
       "3  New customer  High-activity customer  has dependants   low-income   \n",
       "4  New customer  High-activity customer  has dependants   low-income   \n",
       "\n",
       "  spending_flag  prices  \n",
       "0   Low spender    31.6  \n",
       "1   Low spender    35.4  \n",
       "2   Low spender    28.2  \n",
       "3   Low spender    26.0  \n",
       "4   Low spender    57.0  "
      ]
     },
     "execution_count": 75,
     "metadata": {},
     "output_type": "execute_result"
    }
   ],
   "source": [
    "customer_profile.head()"
   ]
  },
  {
   "cell_type": "code",
   "execution_count": 76,
   "id": "6cd3f78e-41c7-4b69-aa4c-7dcbf6464f3e",
   "metadata": {},
   "outputs": [],
   "source": [
    "# Aggregate variables for customer profiles for expenditure\n",
    "customer_agg = customer_profile.groupby('user_id').agg({'order_number': ['max', 'min', 'mean'], 'prices': ['max', 'min', 'mean']})"
   ]
  },
  {
   "cell_type": "code",
   "execution_count": 77,
   "id": "eded68b1-24c6-4080-8d63-2864b7c418ca",
   "metadata": {},
   "outputs": [
    {
     "data": {
      "text/html": [
       "<div>\n",
       "<style scoped>\n",
       "    .dataframe tbody tr th:only-of-type {\n",
       "        vertical-align: middle;\n",
       "    }\n",
       "\n",
       "    .dataframe tbody tr th {\n",
       "        vertical-align: top;\n",
       "    }\n",
       "\n",
       "    .dataframe thead tr th {\n",
       "        text-align: left;\n",
       "    }\n",
       "\n",
       "    .dataframe thead tr:last-of-type th {\n",
       "        text-align: right;\n",
       "    }\n",
       "</style>\n",
       "<table border=\"1\" class=\"dataframe\">\n",
       "  <thead>\n",
       "    <tr>\n",
       "      <th></th>\n",
       "      <th colspan=\"3\" halign=\"left\">order_number</th>\n",
       "      <th colspan=\"3\" halign=\"left\">prices</th>\n",
       "    </tr>\n",
       "    <tr>\n",
       "      <th></th>\n",
       "      <th>max</th>\n",
       "      <th>min</th>\n",
       "      <th>mean</th>\n",
       "      <th>max</th>\n",
       "      <th>min</th>\n",
       "      <th>mean</th>\n",
       "    </tr>\n",
       "    <tr>\n",
       "      <th>user_id</th>\n",
       "      <th></th>\n",
       "      <th></th>\n",
       "      <th></th>\n",
       "      <th></th>\n",
       "      <th></th>\n",
       "      <th></th>\n",
       "    </tr>\n",
       "  </thead>\n",
       "  <tbody>\n",
       "    <tr>\n",
       "      <th>1</th>\n",
       "      <td>10</td>\n",
       "      <td>1</td>\n",
       "      <td>5.5</td>\n",
       "      <td>63.1</td>\n",
       "      <td>25.0</td>\n",
       "      <td>37.570000</td>\n",
       "    </tr>\n",
       "    <tr>\n",
       "      <th>2</th>\n",
       "      <td>14</td>\n",
       "      <td>1</td>\n",
       "      <td>7.5</td>\n",
       "      <td>213.1</td>\n",
       "      <td>19.0</td>\n",
       "      <td>104.685714</td>\n",
       "    </tr>\n",
       "    <tr>\n",
       "      <th>3</th>\n",
       "      <td>12</td>\n",
       "      <td>1</td>\n",
       "      <td>6.5</td>\n",
       "      <td>107.2</td>\n",
       "      <td>30.7</td>\n",
       "      <td>60.116667</td>\n",
       "    </tr>\n",
       "    <tr>\n",
       "      <th>4</th>\n",
       "      <td>5</td>\n",
       "      <td>1</td>\n",
       "      <td>3.0</td>\n",
       "      <td>63.4</td>\n",
       "      <td>10.8</td>\n",
       "      <td>29.540000</td>\n",
       "    </tr>\n",
       "    <tr>\n",
       "      <th>5</th>\n",
       "      <td>4</td>\n",
       "      <td>1</td>\n",
       "      <td>2.5</td>\n",
       "      <td>118.4</td>\n",
       "      <td>43.6</td>\n",
       "      <td>85.000000</td>\n",
       "    </tr>\n",
       "    <tr>\n",
       "      <th>...</th>\n",
       "      <td>...</td>\n",
       "      <td>...</td>\n",
       "      <td>...</td>\n",
       "      <td>...</td>\n",
       "      <td>...</td>\n",
       "      <td>...</td>\n",
       "    </tr>\n",
       "    <tr>\n",
       "      <th>206205</th>\n",
       "      <td>3</td>\n",
       "      <td>1</td>\n",
       "      <td>2.0</td>\n",
       "      <td>149.1</td>\n",
       "      <td>51.6</td>\n",
       "      <td>95.033333</td>\n",
       "    </tr>\n",
       "    <tr>\n",
       "      <th>206206</th>\n",
       "      <td>67</td>\n",
       "      <td>1</td>\n",
       "      <td>34.0</td>\n",
       "      <td>157.3</td>\n",
       "      <td>9.6</td>\n",
       "      <td>32.526866</td>\n",
       "    </tr>\n",
       "    <tr>\n",
       "      <th>206207</th>\n",
       "      <td>16</td>\n",
       "      <td>1</td>\n",
       "      <td>8.5</td>\n",
       "      <td>200.8</td>\n",
       "      <td>42.8</td>\n",
       "      <td>101.931250</td>\n",
       "    </tr>\n",
       "    <tr>\n",
       "      <th>206208</th>\n",
       "      <td>49</td>\n",
       "      <td>1</td>\n",
       "      <td>25.0</td>\n",
       "      <td>238.5</td>\n",
       "      <td>38.7</td>\n",
       "      <td>115.595918</td>\n",
       "    </tr>\n",
       "    <tr>\n",
       "      <th>206209</th>\n",
       "      <td>13</td>\n",
       "      <td>1</td>\n",
       "      <td>7.0</td>\n",
       "      <td>131.5</td>\n",
       "      <td>11.1</td>\n",
       "      <td>70.046154</td>\n",
       "    </tr>\n",
       "  </tbody>\n",
       "</table>\n",
       "<p>198123 rows × 6 columns</p>\n",
       "</div>"
      ],
      "text/plain": [
       "        order_number           prices                  \n",
       "                 max min  mean    max   min        mean\n",
       "user_id                                                \n",
       "1                 10   1   5.5   63.1  25.0   37.570000\n",
       "2                 14   1   7.5  213.1  19.0  104.685714\n",
       "3                 12   1   6.5  107.2  30.7   60.116667\n",
       "4                  5   1   3.0   63.4  10.8   29.540000\n",
       "5                  4   1   2.5  118.4  43.6   85.000000\n",
       "...              ...  ..   ...    ...   ...         ...\n",
       "206205             3   1   2.0  149.1  51.6   95.033333\n",
       "206206            67   1  34.0  157.3   9.6   32.526866\n",
       "206207            16   1   8.5  200.8  42.8  101.931250\n",
       "206208            49   1  25.0  238.5  38.7  115.595918\n",
       "206209            13   1   7.0  131.5  11.1   70.046154\n",
       "\n",
       "[198123 rows x 6 columns]"
      ]
     },
     "execution_count": 77,
     "metadata": {},
     "output_type": "execute_result"
    }
   ],
   "source": [
    "customer_agg"
   ]
  },
  {
   "cell_type": "code",
   "execution_count": 78,
   "id": "8df359b4-80fe-41a3-bf02-cd36917871b8",
   "metadata": {},
   "outputs": [],
   "source": [
    "# Aggregate variables for customer profiles for usage frequency\n",
    "freq_agg = df_excluded.groupby('user_id').agg({'order_number': ['max', 'min', 'mean'], 'days_since_prior_order': ['max', 'min', 'mean']})"
   ]
  },
  {
   "cell_type": "code",
   "execution_count": 79,
   "id": "aa0da304-6f9c-4d7c-83f2-4c220c9c8594",
   "metadata": {},
   "outputs": [
    {
     "data": {
      "text/html": [
       "<div>\n",
       "<style scoped>\n",
       "    .dataframe tbody tr th:only-of-type {\n",
       "        vertical-align: middle;\n",
       "    }\n",
       "\n",
       "    .dataframe tbody tr th {\n",
       "        vertical-align: top;\n",
       "    }\n",
       "\n",
       "    .dataframe thead tr th {\n",
       "        text-align: left;\n",
       "    }\n",
       "\n",
       "    .dataframe thead tr:last-of-type th {\n",
       "        text-align: right;\n",
       "    }\n",
       "</style>\n",
       "<table border=\"1\" class=\"dataframe\">\n",
       "  <thead>\n",
       "    <tr>\n",
       "      <th></th>\n",
       "      <th colspan=\"3\" halign=\"left\">order_number</th>\n",
       "      <th colspan=\"3\" halign=\"left\">days_since_prior_order</th>\n",
       "    </tr>\n",
       "    <tr>\n",
       "      <th></th>\n",
       "      <th>max</th>\n",
       "      <th>min</th>\n",
       "      <th>mean</th>\n",
       "      <th>max</th>\n",
       "      <th>min</th>\n",
       "      <th>mean</th>\n",
       "    </tr>\n",
       "    <tr>\n",
       "      <th>user_id</th>\n",
       "      <th></th>\n",
       "      <th></th>\n",
       "      <th></th>\n",
       "      <th></th>\n",
       "      <th></th>\n",
       "      <th></th>\n",
       "    </tr>\n",
       "  </thead>\n",
       "  <tbody>\n",
       "    <tr>\n",
       "      <th>1</th>\n",
       "      <td>10</td>\n",
       "      <td>1</td>\n",
       "      <td>5.813559</td>\n",
       "      <td>30.0</td>\n",
       "      <td>0.0</td>\n",
       "      <td>20.259259</td>\n",
       "    </tr>\n",
       "    <tr>\n",
       "      <th>2</th>\n",
       "      <td>14</td>\n",
       "      <td>1</td>\n",
       "      <td>8.035897</td>\n",
       "      <td>30.0</td>\n",
       "      <td>3.0</td>\n",
       "      <td>15.967033</td>\n",
       "    </tr>\n",
       "    <tr>\n",
       "      <th>3</th>\n",
       "      <td>12</td>\n",
       "      <td>1</td>\n",
       "      <td>6.000000</td>\n",
       "      <td>21.0</td>\n",
       "      <td>7.0</td>\n",
       "      <td>11.487179</td>\n",
       "    </tr>\n",
       "    <tr>\n",
       "      <th>4</th>\n",
       "      <td>5</td>\n",
       "      <td>1</td>\n",
       "      <td>2.888889</td>\n",
       "      <td>21.0</td>\n",
       "      <td>0.0</td>\n",
       "      <td>15.357143</td>\n",
       "    </tr>\n",
       "    <tr>\n",
       "      <th>5</th>\n",
       "      <td>4</td>\n",
       "      <td>1</td>\n",
       "      <td>2.486486</td>\n",
       "      <td>19.0</td>\n",
       "      <td>10.0</td>\n",
       "      <td>14.500000</td>\n",
       "    </tr>\n",
       "    <tr>\n",
       "      <th>...</th>\n",
       "      <td>...</td>\n",
       "      <td>...</td>\n",
       "      <td>...</td>\n",
       "      <td>...</td>\n",
       "      <td>...</td>\n",
       "      <td>...</td>\n",
       "    </tr>\n",
       "    <tr>\n",
       "      <th>206205</th>\n",
       "      <td>3</td>\n",
       "      <td>1</td>\n",
       "      <td>1.687500</td>\n",
       "      <td>30.0</td>\n",
       "      <td>10.0</td>\n",
       "      <td>20.666667</td>\n",
       "    </tr>\n",
       "    <tr>\n",
       "      <th>206206</th>\n",
       "      <td>67</td>\n",
       "      <td>1</td>\n",
       "      <td>38.007018</td>\n",
       "      <td>15.0</td>\n",
       "      <td>0.0</td>\n",
       "      <td>4.042705</td>\n",
       "    </tr>\n",
       "    <tr>\n",
       "      <th>206207</th>\n",
       "      <td>16</td>\n",
       "      <td>1</td>\n",
       "      <td>8.116592</td>\n",
       "      <td>30.0</td>\n",
       "      <td>1.0</td>\n",
       "      <td>14.879397</td>\n",
       "    </tr>\n",
       "    <tr>\n",
       "      <th>206208</th>\n",
       "      <td>49</td>\n",
       "      <td>1</td>\n",
       "      <td>25.505170</td>\n",
       "      <td>20.0</td>\n",
       "      <td>0.0</td>\n",
       "      <td>7.442105</td>\n",
       "    </tr>\n",
       "    <tr>\n",
       "      <th>206209</th>\n",
       "      <td>13</td>\n",
       "      <td>1</td>\n",
       "      <td>6.937984</td>\n",
       "      <td>30.0</td>\n",
       "      <td>3.0</td>\n",
       "      <td>20.275862</td>\n",
       "    </tr>\n",
       "  </tbody>\n",
       "</table>\n",
       "<p>206209 rows × 6 columns</p>\n",
       "</div>"
      ],
      "text/plain": [
       "        order_number                days_since_prior_order                 \n",
       "                 max min       mean                    max   min       mean\n",
       "user_id                                                                    \n",
       "1                 10   1   5.813559                   30.0   0.0  20.259259\n",
       "2                 14   1   8.035897                   30.0   3.0  15.967033\n",
       "3                 12   1   6.000000                   21.0   7.0  11.487179\n",
       "4                  5   1   2.888889                   21.0   0.0  15.357143\n",
       "5                  4   1   2.486486                   19.0  10.0  14.500000\n",
       "...              ...  ..        ...                    ...   ...        ...\n",
       "206205             3   1   1.687500                   30.0  10.0  20.666667\n",
       "206206            67   1  38.007018                   15.0   0.0   4.042705\n",
       "206207            16   1   8.116592                   30.0   1.0  14.879397\n",
       "206208            49   1  25.505170                   20.0   0.0   7.442105\n",
       "206209            13   1   6.937984                   30.0   3.0  20.275862\n",
       "\n",
       "[206209 rows x 6 columns]"
      ]
     },
     "execution_count": 79,
     "metadata": {},
     "output_type": "execute_result"
    }
   ],
   "source": [
    "freq_agg"
   ]
  },
  {
   "cell_type": "markdown",
   "id": "f06471a8-848e-42da-8ba5-0d4ef6ddff1f",
   "metadata": {},
   "source": [
    "# Compare customer profiles with regions and departments"
   ]
  },
  {
   "cell_type": "markdown",
   "id": "cbda5534-55e8-4cd1-ac77-e0c11ed22f61",
   "metadata": {},
   "source": [
    "## Region vs Department"
   ]
  },
  {
   "cell_type": "code",
   "execution_count": 81,
   "id": "ba4b4a93-9254-45b6-a875-e42f2e50bf50",
   "metadata": {},
   "outputs": [],
   "source": [
    "# crosstab age group vs department\n",
    "region_dept_cross = pd.crosstab(df_final_merged['Region'], df_final_merged['department'], dropna = False)"
   ]
  },
  {
   "cell_type": "code",
   "execution_count": 82,
   "id": "010979c1-7860-4101-92ed-406543bed82a",
   "metadata": {},
   "outputs": [
    {
     "data": {
      "text/html": [
       "<div>\n",
       "<style scoped>\n",
       "    .dataframe tbody tr th:only-of-type {\n",
       "        vertical-align: middle;\n",
       "    }\n",
       "\n",
       "    .dataframe tbody tr th {\n",
       "        vertical-align: top;\n",
       "    }\n",
       "\n",
       "    .dataframe thead th {\n",
       "        text-align: right;\n",
       "    }\n",
       "</style>\n",
       "<table border=\"1\" class=\"dataframe\">\n",
       "  <thead>\n",
       "    <tr style=\"text-align: right;\">\n",
       "      <th>department</th>\n",
       "      <th>alcohol</th>\n",
       "      <th>babies</th>\n",
       "      <th>bakery</th>\n",
       "      <th>beverages</th>\n",
       "      <th>breakfast</th>\n",
       "      <th>bulk</th>\n",
       "      <th>canned goods</th>\n",
       "      <th>dairy eggs</th>\n",
       "      <th>deli</th>\n",
       "      <th>dry goods pasta</th>\n",
       "      <th>...</th>\n",
       "      <th>household</th>\n",
       "      <th>international</th>\n",
       "      <th>meat seafood</th>\n",
       "      <th>missing</th>\n",
       "      <th>other</th>\n",
       "      <th>pantry</th>\n",
       "      <th>personal care</th>\n",
       "      <th>pets</th>\n",
       "      <th>produce</th>\n",
       "      <th>snacks</th>\n",
       "    </tr>\n",
       "    <tr>\n",
       "      <th>Region</th>\n",
       "      <th></th>\n",
       "      <th></th>\n",
       "      <th></th>\n",
       "      <th></th>\n",
       "      <th></th>\n",
       "      <th></th>\n",
       "      <th></th>\n",
       "      <th></th>\n",
       "      <th></th>\n",
       "      <th></th>\n",
       "      <th></th>\n",
       "      <th></th>\n",
       "      <th></th>\n",
       "      <th></th>\n",
       "      <th></th>\n",
       "      <th></th>\n",
       "      <th></th>\n",
       "      <th></th>\n",
       "      <th></th>\n",
       "      <th></th>\n",
       "      <th></th>\n",
       "    </tr>\n",
       "  </thead>\n",
       "  <tbody>\n",
       "    <tr>\n",
       "      <th>Midwest</th>\n",
       "      <td>36186</td>\n",
       "      <td>98983</td>\n",
       "      <td>273869</td>\n",
       "      <td>625574</td>\n",
       "      <td>163551</td>\n",
       "      <td>8193</td>\n",
       "      <td>250702</td>\n",
       "      <td>1264223</td>\n",
       "      <td>245678</td>\n",
       "      <td>203769</td>\n",
       "      <td>...</td>\n",
       "      <td>175824</td>\n",
       "      <td>63736</td>\n",
       "      <td>166129</td>\n",
       "      <td>16535</td>\n",
       "      <td>8420</td>\n",
       "      <td>442101</td>\n",
       "      <td>105749</td>\n",
       "      <td>22355</td>\n",
       "      <td>2227937</td>\n",
       "      <td>673715</td>\n",
       "    </tr>\n",
       "    <tr>\n",
       "      <th>Northeast</th>\n",
       "      <td>21320</td>\n",
       "      <td>58688</td>\n",
       "      <td>163034</td>\n",
       "      <td>380449</td>\n",
       "      <td>96776</td>\n",
       "      <td>4615</td>\n",
       "      <td>145346</td>\n",
       "      <td>742431</td>\n",
       "      <td>146250</td>\n",
       "      <td>118123</td>\n",
       "      <td>...</td>\n",
       "      <td>102104</td>\n",
       "      <td>36992</td>\n",
       "      <td>96230</td>\n",
       "      <td>9632</td>\n",
       "      <td>5183</td>\n",
       "      <td>257511</td>\n",
       "      <td>61690</td>\n",
       "      <td>13804</td>\n",
       "      <td>1295707</td>\n",
       "      <td>400885</td>\n",
       "    </tr>\n",
       "    <tr>\n",
       "      <th>South</th>\n",
       "      <td>51624</td>\n",
       "      <td>143654</td>\n",
       "      <td>388815</td>\n",
       "      <td>898940</td>\n",
       "      <td>234251</td>\n",
       "      <td>11533</td>\n",
       "      <td>356015</td>\n",
       "      <td>1796969</td>\n",
       "      <td>349419</td>\n",
       "      <td>287444</td>\n",
       "      <td>...</td>\n",
       "      <td>243070</td>\n",
       "      <td>89142</td>\n",
       "      <td>235752</td>\n",
       "      <td>23193</td>\n",
       "      <td>12212</td>\n",
       "      <td>622436</td>\n",
       "      <td>150350</td>\n",
       "      <td>31269</td>\n",
       "      <td>3160551</td>\n",
       "      <td>957346</td>\n",
       "    </tr>\n",
       "    <tr>\n",
       "      <th>West</th>\n",
       "      <td>39344</td>\n",
       "      <td>106026</td>\n",
       "      <td>301145</td>\n",
       "      <td>680191</td>\n",
       "      <td>181657</td>\n",
       "      <td>9045</td>\n",
       "      <td>274586</td>\n",
       "      <td>1383529</td>\n",
       "      <td>269335</td>\n",
       "      <td>223598</td>\n",
       "      <td>...</td>\n",
       "      <td>188287</td>\n",
       "      <td>69484</td>\n",
       "      <td>182426</td>\n",
       "      <td>17043</td>\n",
       "      <td>9074</td>\n",
       "      <td>481387</td>\n",
       "      <td>112658</td>\n",
       "      <td>25491</td>\n",
       "      <td>2424964</td>\n",
       "      <td>741814</td>\n",
       "    </tr>\n",
       "    <tr>\n",
       "      <th>NaN</th>\n",
       "      <td>5222</td>\n",
       "      <td>16451</td>\n",
       "      <td>45565</td>\n",
       "      <td>102969</td>\n",
       "      <td>26798</td>\n",
       "      <td>1187</td>\n",
       "      <td>41409</td>\n",
       "      <td>211595</td>\n",
       "      <td>40567</td>\n",
       "      <td>33693</td>\n",
       "      <td>...</td>\n",
       "      <td>29381</td>\n",
       "      <td>9899</td>\n",
       "      <td>28390</td>\n",
       "      <td>2742</td>\n",
       "      <td>1402</td>\n",
       "      <td>71934</td>\n",
       "      <td>17125</td>\n",
       "      <td>4797</td>\n",
       "      <td>370132</td>\n",
       "      <td>113790</td>\n",
       "    </tr>\n",
       "  </tbody>\n",
       "</table>\n",
       "<p>5 rows × 21 columns</p>\n",
       "</div>"
      ],
      "text/plain": [
       "department  alcohol  babies  bakery  beverages  breakfast   bulk  \\\n",
       "Region                                                             \n",
       "Midwest       36186   98983  273869     625574     163551   8193   \n",
       "Northeast     21320   58688  163034     380449      96776   4615   \n",
       "South         51624  143654  388815     898940     234251  11533   \n",
       "West          39344  106026  301145     680191     181657   9045   \n",
       "NaN            5222   16451   45565     102969      26798   1187   \n",
       "\n",
       "department  canned goods  dairy eggs    deli  dry goods pasta  ...  household  \\\n",
       "Region                                                         ...              \n",
       "Midwest           250702     1264223  245678           203769  ...     175824   \n",
       "Northeast         145346      742431  146250           118123  ...     102104   \n",
       "South             356015     1796969  349419           287444  ...     243070   \n",
       "West              274586     1383529  269335           223598  ...     188287   \n",
       "NaN                41409      211595   40567            33693  ...      29381   \n",
       "\n",
       "department  international  meat seafood  missing  other  pantry  \\\n",
       "Region                                                            \n",
       "Midwest             63736        166129    16535   8420  442101   \n",
       "Northeast           36992         96230     9632   5183  257511   \n",
       "South               89142        235752    23193  12212  622436   \n",
       "West                69484        182426    17043   9074  481387   \n",
       "NaN                  9899         28390     2742   1402   71934   \n",
       "\n",
       "department  personal care   pets  produce  snacks  \n",
       "Region                                             \n",
       "Midwest            105749  22355  2227937  673715  \n",
       "Northeast           61690  13804  1295707  400885  \n",
       "South              150350  31269  3160551  957346  \n",
       "West               112658  25491  2424964  741814  \n",
       "NaN                 17125   4797   370132  113790  \n",
       "\n",
       "[5 rows x 21 columns]"
      ]
     },
     "execution_count": 82,
     "metadata": {},
     "output_type": "execute_result"
    }
   ],
   "source": [
    "region_dept_cross"
   ]
  },
  {
   "cell_type": "code",
   "execution_count": 83,
   "id": "f88d1688-b93d-4af0-9c96-dd80a0d9fa49",
   "metadata": {},
   "outputs": [
    {
     "data": {
      "text/plain": [
       "<matplotlib.legend.Legend at 0x21a933a14c0>"
      ]
     },
     "execution_count": 83,
     "metadata": {},
     "output_type": "execute_result"
    },
    {
     "data": {
      "image/png": "[encoded data removed]",
      "text/plain": [
       "<Figure size 1400x1000 with 1 Axes>"
      ]
     },
     "metadata": {},
     "output_type": "display_data"
    }
   ],
   "source": [
    "# bar chart\n",
    "region_dept_bar = region_dept_cross.plot(kind = 'barh', figsize=(14,10))\n",
    "plt.title('Department Sales by Region')\n",
    "plt.xlabel('products count')\n",
    "plt.ylabel('region')\n",
    "# Move legend outside of plot\n",
    "plt.legend(title='Department', bbox_to_anchor=(1.05, 1), loc='upper left', fontsize=12, title_fontsize=14)"
   ]
  },
  {
   "cell_type": "code",
   "execution_count": 84,
   "id": "b9161ed7-a249-4e49-939c-49751dc258e3",
   "metadata": {},
   "outputs": [],
   "source": [
    "# Export bar chart\n",
    "region_dept_bar.figure.savefig(os.path.join(path, '04 Analysis','Visualizations', 'region_depts_bar.png'))"
   ]
  },
  {
   "cell_type": "code",
   "execution_count": 85,
   "id": "558a9c54-73b7-4b6d-abac-573ac0d7a780",
   "metadata": {},
   "outputs": [],
   "source": [
    "# import orders_products_customers\n",
    "df = pd.read_pickle(os.path.join(path, '02 Data', 'Prepared Data', 'orders_products_customers_departments.pkl'))"
   ]
  },
  {
   "cell_type": "code",
   "execution_count": 86,
   "id": "6b7d3f8b-0c2b-4dcc-973c-35a13bad1119",
   "metadata": {},
   "outputs": [
    {
     "data": {
      "text/plain": [
       "Text(0.5, 0, '')"
      ]
     },
     "execution_count": 86,
     "metadata": {},
     "output_type": "execute_result"
    },
    {
     "data": {
      "image/png": "[encoded data removed]",
      "text/plain": [
       "<Figure size 640x480 with 1 Axes>"
      ]
     },
     "metadata": {},
     "output_type": "display_data"
    }
   ],
   "source": [
    "# bar chart orders by day of week\n",
    "orders_dow_bar = df['orders_day_of_week'].value_counts().sort_index().plot.bar(color = 'blue')\n",
    "orders_dow_bar.set_title('Orders by Day of Week')\n",
    "orders_dow_bar.set_xticklabels(['Saturday', 'Sunday', 'Monday', 'Tuesday', 'Wednesday', 'Thursday', 'Friday'], rotation=0)\n",
    "orders_dow_bar.set_xlabel(\"\")"
   ]
  },
  {
   "cell_type": "code",
   "execution_count": 87,
   "id": "85e971c6-93bf-4c0e-bc5d-ce692b1c0543",
   "metadata": {},
   "outputs": [],
   "source": [
    "# Export bar chart\n",
    "orders_dow_bar.figure.savefig(os.path.join(path, '04 Analysis','Visualizations', 'orders_dow_bar.png'))"
   ]
  },
  {
   "cell_type": "code",
   "execution_count": 88,
   "id": "adc465d7-b692-49b6-a1c5-bb203f120e75",
   "metadata": {},
   "outputs": [
    {
     "data": {
      "text/plain": [
       "Text(0.5, 0, 'Hour of Day (24 hr clock)')"
      ]
     },
     "execution_count": 88,
     "metadata": {},
     "output_type": "execute_result"
    },
    {
     "data": {
      "image/png": "[encoded data removed]",
      "text/plain": [
       "<Figure size 640x480 with 1 Axes>"
      ]
     },
     "metadata": {},
     "output_type": "display_data"
    }
   ],
   "source": [
    "# histogram of hours of the day\n",
    "hod_hist=df['order_hour_of_day'].plot.hist(bins = 24)\n",
    "plt.title('Orders by Hour of Day')\n",
    "plt.xlabel('Hour of Day (24 hr clock)')"
   ]
  },
  {
   "cell_type": "code",
   "execution_count": 89,
   "id": "8bc00d17-52c6-4212-aec4-416bd8684bdb",
   "metadata": {},
   "outputs": [],
   "source": [
    "# Export histogram\n",
    "hod_hist.figure.savefig(os.path.join(path, '04 Analysis','Visualizations', 'hod_hist.png'))"
   ]
  },
  {
   "cell_type": "code",
   "execution_count": 90,
   "id": "75748abb-74b0-4e3c-bfae-75e80301a61e",
   "metadata": {},
   "outputs": [
    {
     "data": {
      "text/html": [
       "<div>\n",
       "<style scoped>\n",
       "    .dataframe tbody tr th:only-of-type {\n",
       "        vertical-align: middle;\n",
       "    }\n",
       "\n",
       "    .dataframe tbody tr th {\n",
       "        vertical-align: top;\n",
       "    }\n",
       "\n",
       "    .dataframe thead th {\n",
       "        text-align: right;\n",
       "    }\n",
       "</style>\n",
       "<table border=\"1\" class=\"dataframe\">\n",
       "  <thead>\n",
       "    <tr style=\"text-align: right;\">\n",
       "      <th>income_group</th>\n",
       "      <th>high-income</th>\n",
       "      <th>low-income</th>\n",
       "      <th>middle-income</th>\n",
       "    </tr>\n",
       "    <tr>\n",
       "      <th>loyalty_flag</th>\n",
       "      <th></th>\n",
       "      <th></th>\n",
       "      <th></th>\n",
       "    </tr>\n",
       "  </thead>\n",
       "  <tbody>\n",
       "    <tr>\n",
       "      <th>Loyal customer</th>\n",
       "      <td>1310941</td>\n",
       "      <td>1381467</td>\n",
       "      <td>7591685</td>\n",
       "    </tr>\n",
       "    <tr>\n",
       "      <th>New customer</th>\n",
       "      <td>731578</td>\n",
       "      <td>1086401</td>\n",
       "      <td>4426011</td>\n",
       "    </tr>\n",
       "    <tr>\n",
       "      <th>Regular customer</th>\n",
       "      <td>2008321</td>\n",
       "      <td>2272117</td>\n",
       "      <td>11596338</td>\n",
       "    </tr>\n",
       "  </tbody>\n",
       "</table>\n",
       "</div>"
      ],
      "text/plain": [
       "income_group      high-income  low-income  middle-income\n",
       "loyalty_flag                                            \n",
       "Loyal customer        1310941     1381467        7591685\n",
       "New customer           731578     1086401        4426011\n",
       "Regular customer      2008321     2272117       11596338"
      ]
     },
     "execution_count": 90,
     "metadata": {},
     "output_type": "execute_result"
    }
   ],
   "source": [
    "# Crosstab loyalty with age group\n",
    "loyalty_income_cross = pd.crosstab(df['loyalty_flag'], df['income_group'], dropna = False)\n",
    "loyalty_income_cross"
   ]
  },
  {
   "cell_type": "code",
   "execution_count": 91,
   "id": "a522f042-f48c-49f0-bf3b-169ef99fd8b5",
   "metadata": {},
   "outputs": [
    {
     "data": {
      "text/plain": [
       "(array([0, 1, 2]),\n",
       " [Text(0, 0, 'Loyal customer'),\n",
       "  Text(1, 0, 'New customer'),\n",
       "  Text(2, 0, 'Regular customer')])"
      ]
     },
     "execution_count": 91,
     "metadata": {},
     "output_type": "execute_result"
    },
    {
     "data": {
      "image/png": "[encoded data removed]",
      "text/plain": [
       "<Figure size 640x480 with 1 Axes>"
      ]
     },
     "metadata": {},
     "output_type": "display_data"
    }
   ],
   "source": [
    "# bar chart\n",
    "loyalty_income_bar = loyalty_income_cross.plot.bar()\n",
    "plt.title('Loyalty by Income Group')\n",
    "plt.xlabel('')\n",
    "plt.ylabel('count')\n",
    "plt.xticks(rotation=0)"
   ]
  },
  {
   "cell_type": "code",
   "execution_count": 92,
   "id": "51a735b5-5437-48ab-a444-79b4e4423930",
   "metadata": {},
   "outputs": [],
   "source": [
    "# Export the chart\n",
    "loyalty_income_bar.figure.savefig(os.path.join(path, '04 Analysis','Visualizations', 'loyalty_income_group_bar.png'))"
   ]
  },
  {
   "cell_type": "code",
   "execution_count": 96,
   "id": "ca6cc878-b00c-46fe-a74c-1d1a8b6ba582",
   "metadata": {},
   "outputs": [
    {
     "data": {
      "text/html": [
       "<div>\n",
       "<style scoped>\n",
       "    .dataframe tbody tr th:only-of-type {\n",
       "        vertical-align: middle;\n",
       "    }\n",
       "\n",
       "    .dataframe tbody tr th {\n",
       "        vertical-align: top;\n",
       "    }\n",
       "\n",
       "    .dataframe thead th {\n",
       "        text-align: right;\n",
       "    }\n",
       "</style>\n",
       "<table border=\"1\" class=\"dataframe\">\n",
       "  <thead>\n",
       "    <tr style=\"text-align: right;\">\n",
       "      <th>spending_flag</th>\n",
       "      <th>High spender</th>\n",
       "      <th>Low spender</th>\n",
       "    </tr>\n",
       "    <tr>\n",
       "      <th>loyalty_flag</th>\n",
       "      <th></th>\n",
       "      <th></th>\n",
       "    </tr>\n",
       "  </thead>\n",
       "  <tbody>\n",
       "    <tr>\n",
       "      <th>Loyal customer</th>\n",
       "      <td>216600</td>\n",
       "      <td>10067493</td>\n",
       "    </tr>\n",
       "    <tr>\n",
       "      <th>New customer</th>\n",
       "      <td>114831</td>\n",
       "      <td>6129159</td>\n",
       "    </tr>\n",
       "    <tr>\n",
       "      <th>Regular customer</th>\n",
       "      <td>302814</td>\n",
       "      <td>15573962</td>\n",
       "    </tr>\n",
       "  </tbody>\n",
       "</table>\n",
       "</div>"
      ],
      "text/plain": [
       "spending_flag     High spender  Low spender\n",
       "loyalty_flag                               \n",
       "Loyal customer          216600     10067493\n",
       "New customer            114831      6129159\n",
       "Regular customer        302814     15573962"
      ]
     },
     "execution_count": 96,
     "metadata": {},
     "output_type": "execute_result"
    }
   ],
   "source": [
    "# Crosstab loyalty with spending\n",
    "loyalty_spender_cross = pd.crosstab(df['loyalty_flag'], df['spending_flag'], dropna = False)\n",
    "loyalty_spender_cross"
   ]
  },
  {
   "cell_type": "code",
   "execution_count": 97,
   "id": "8572da11-2b56-4875-aea8-e9c73bc0abc1",
   "metadata": {},
   "outputs": [
    {
     "data": {
      "text/plain": [
       "(array([0, 1, 2]),\n",
       " [Text(0, 0, 'Loyal customer'),\n",
       "  Text(1, 0, 'New customer'),\n",
       "  Text(2, 0, 'Regular customer')])"
      ]
     },
     "execution_count": 97,
     "metadata": {},
     "output_type": "execute_result"
    },
    {
     "data": {
      "image/png": "[encoded data removed]",
      "text/plain": [
       "<Figure size 640x480 with 1 Axes>"
      ]
     },
     "metadata": {},
     "output_type": "display_data"
    }
   ],
   "source": [
    "# bar chart\n",
    "loyalty_spender_bar = loyalty_spender_cross.plot.bar()\n",
    "plt.title('Loyalty by Spender flag')\n",
    "plt.xlabel('')\n",
    "plt.ylabel('count')\n",
    "plt.xticks(rotation=0)"
   ]
  },
  {
   "cell_type": "code",
   "execution_count": 98,
   "id": "dac9015e-7dd2-4894-a433-97cea7f350c6",
   "metadata": {},
   "outputs": [],
   "source": [
    "# Export the chart\n",
    "loyalty_spender_bar.figure.savefig(os.path.join(path, '04 Analysis','Visualizations', 'loyalty_spender_bar.png'))"
   ]
  },
  {
   "cell_type": "code",
   "execution_count": 103,
   "id": "b204a2be-8db2-4bdd-8469-770969c970a1",
   "metadata": {},
   "outputs": [
    {
     "data": {
      "text/html": [
       "<div>\n",
       "<style scoped>\n",
       "    .dataframe tbody tr th:only-of-type {\n",
       "        vertical-align: middle;\n",
       "    }\n",
       "\n",
       "    .dataframe tbody tr th {\n",
       "        vertical-align: top;\n",
       "    }\n",
       "\n",
       "    .dataframe thead th {\n",
       "        text-align: right;\n",
       "    }\n",
       "</style>\n",
       "<table border=\"1\" class=\"dataframe\">\n",
       "  <thead>\n",
       "    <tr style=\"text-align: right;\">\n",
       "      <th>Family Status</th>\n",
       "      <th>divorced/widowed</th>\n",
       "      <th>living with parents and siblings</th>\n",
       "      <th>married</th>\n",
       "      <th>single</th>\n",
       "    </tr>\n",
       "    <tr>\n",
       "      <th>loyalty_flag</th>\n",
       "      <th></th>\n",
       "      <th></th>\n",
       "      <th></th>\n",
       "      <th></th>\n",
       "    </tr>\n",
       "  </thead>\n",
       "  <tbody>\n",
       "    <tr>\n",
       "      <th>Loyal customer</th>\n",
       "      <td>882722</td>\n",
       "      <td>492749</td>\n",
       "      <td>7202500</td>\n",
       "      <td>1706122</td>\n",
       "    </tr>\n",
       "    <tr>\n",
       "      <th>New customer</th>\n",
       "      <td>530322</td>\n",
       "      <td>291210</td>\n",
       "      <td>4393693</td>\n",
       "      <td>1028765</td>\n",
       "    </tr>\n",
       "    <tr>\n",
       "      <th>Regular customer</th>\n",
       "      <td>1358768</td>\n",
       "      <td>766644</td>\n",
       "      <td>11160560</td>\n",
       "      <td>2590804</td>\n",
       "    </tr>\n",
       "  </tbody>\n",
       "</table>\n",
       "</div>"
      ],
      "text/plain": [
       "Family Status     divorced/widowed  living with parents and siblings  \\\n",
       "loyalty_flag                                                           \n",
       "Loyal customer              882722                            492749   \n",
       "New customer                530322                            291210   \n",
       "Regular customer           1358768                            766644   \n",
       "\n",
       "Family Status      married   single  \n",
       "loyalty_flag                         \n",
       "Loyal customer     7202500  1706122  \n",
       "New customer       4393693  1028765  \n",
       "Regular customer  11160560  2590804  "
      ]
     },
     "execution_count": 103,
     "metadata": {},
     "output_type": "execute_result"
    }
   ],
   "source": [
    "# Crosstab loyalty with family status\n",
    "loyalty_fam_cross = pd.crosstab(df['loyalty_flag'], df['Family Status'], dropna = False)\n",
    "loyalty_fam_cross"
   ]
  },
  {
   "cell_type": "code",
   "execution_count": 104,
   "id": "ad63ba00-6dff-473f-b9e9-8499bd762515",
   "metadata": {},
   "outputs": [
    {
     "data": {
      "text/plain": [
       "(array([0, 1, 2]),\n",
       " [Text(0, 0, 'Loyal customer'),\n",
       "  Text(1, 0, 'New customer'),\n",
       "  Text(2, 0, 'Regular customer')])"
      ]
     },
     "execution_count": 104,
     "metadata": {},
     "output_type": "execute_result"
    },
    {
     "data": {
      "image/png": "[encoded data removed]",
      "text/plain": [
       "<Figure size 640x480 with 1 Axes>"
      ]
     },
     "metadata": {},
     "output_type": "display_data"
    }
   ],
   "source": [
    "# bar chart\n",
    "loyalty_fam_bar = loyalty_fam_cross.plot.bar()\n",
    "plt.title('Loyalty by Family Status')\n",
    "plt.xlabel('')\n",
    "plt.ylabel('count')\n",
    "plt.xticks(rotation=0)"
   ]
  },
  {
   "cell_type": "code",
   "execution_count": 105,
   "id": "3a6a3dd4-fb88-435e-a35d-dcf58b0365e1",
   "metadata": {},
   "outputs": [
    {
     "data": {
      "text/html": [
       "<div>\n",
       "<style scoped>\n",
       "    .dataframe tbody tr th:only-of-type {\n",
       "        vertical-align: middle;\n",
       "    }\n",
       "\n",
       "    .dataframe tbody tr th {\n",
       "        vertical-align: top;\n",
       "    }\n",
       "\n",
       "    .dataframe thead th {\n",
       "        text-align: right;\n",
       "    }\n",
       "</style>\n",
       "<table border=\"1\" class=\"dataframe\">\n",
       "  <thead>\n",
       "    <tr style=\"text-align: right;\">\n",
       "      <th>dependants_flag</th>\n",
       "      <th>has dependants</th>\n",
       "      <th>no dependants</th>\n",
       "    </tr>\n",
       "    <tr>\n",
       "      <th>loyalty_flag</th>\n",
       "      <th></th>\n",
       "      <th></th>\n",
       "    </tr>\n",
       "  </thead>\n",
       "  <tbody>\n",
       "    <tr>\n",
       "      <th>Loyal customer</th>\n",
       "      <td>7695249</td>\n",
       "      <td>2588844</td>\n",
       "    </tr>\n",
       "    <tr>\n",
       "      <th>New customer</th>\n",
       "      <td>4684903</td>\n",
       "      <td>1559087</td>\n",
       "    </tr>\n",
       "    <tr>\n",
       "      <th>Regular customer</th>\n",
       "      <td>11927204</td>\n",
       "      <td>3949572</td>\n",
       "    </tr>\n",
       "  </tbody>\n",
       "</table>\n",
       "</div>"
      ],
      "text/plain": [
       "dependants_flag   has dependants  no dependants\n",
       "loyalty_flag                                   \n",
       "Loyal customer           7695249        2588844\n",
       "New customer             4684903        1559087\n",
       "Regular customer        11927204        3949572"
      ]
     },
     "execution_count": 105,
     "metadata": {},
     "output_type": "execute_result"
    }
   ],
   "source": [
    "# Crosstab loyalty with dependants\n",
    "loyalty_depend_cross = pd.crosstab(df['loyalty_flag'], df['dependants_flag'], dropna = False)\n",
    "loyalty_depend_cross"
   ]
  },
  {
   "cell_type": "code",
   "execution_count": 112,
   "id": "ed299ca0-9f37-4557-9bef-a7864708fa20",
   "metadata": {},
   "outputs": [],
   "source": [
    "loyalty_fam_bar.figure.savefig(os.path.join(path, '04 Analysis','Visualizations', 'loyalty_by_family_status.png'))"
   ]
  },
  {
   "cell_type": "code",
   "execution_count": 106,
   "id": "14bab07b-a152-49e8-b097-849832f2f62b",
   "metadata": {},
   "outputs": [
    {
     "data": {
      "text/plain": [
       "(array([0, 1, 2]),\n",
       " [Text(0, 0, 'Loyal customer'),\n",
       "  Text(1, 0, 'New customer'),\n",
       "  Text(2, 0, 'Regular customer')])"
      ]
     },
     "execution_count": 106,
     "metadata": {},
     "output_type": "execute_result"
    },
    {
     "data": {
      "image/png": "[encoded data removed]",
      "text/plain": [
       "<Figure size 640x480 with 1 Axes>"
      ]
     },
     "metadata": {},
     "output_type": "display_data"
    }
   ],
   "source": [
    "# bar chart\n",
    "loyalty_depend_bar = loyalty_depend_cross.plot.bar()\n",
    "plt.title('Loyalty by Dependants Status')\n",
    "plt.xlabel('')\n",
    "plt.ylabel('count')\n",
    "plt.xticks(rotation=0)"
   ]
  },
  {
   "cell_type": "code",
   "execution_count": 114,
   "id": "7d09269a-1721-4253-83bd-1e48ad5760c8",
   "metadata": {},
   "outputs": [],
   "source": [
    "loyalty_depend_bar.figure.savefig(os.path.join(path, '04 Analysis','Visualizations', 'loyalty_depend_bar.png'))"
   ]
  },
  {
   "cell_type": "code",
   "execution_count": 108,
   "id": "58ed966a-4fbe-4dc2-8324-d06d1cd35972",
   "metadata": {},
   "outputs": [
    {
     "data": {
      "text/plain": [
       "Family Status\n",
       "married                             22756753\n",
       "single                               5325691\n",
       "divorced/widowed                     2771812\n",
       "living with parents and siblings     1550603\n",
       "Name: count, dtype: int64"
      ]
     },
     "execution_count": 108,
     "metadata": {},
     "output_type": "execute_result"
    }
   ],
   "source": [
    "# Check value counts\n",
    "fam_status = df['Family Status'].value_counts(dropna = False)\n",
    "fam_status"
   ]
  },
  {
   "cell_type": "code",
   "execution_count": 109,
   "id": "f6c077c7-9c51-4166-862f-4aad0b62983e",
   "metadata": {},
   "outputs": [
    {
     "data": {
      "image/png": "[encoded data removed]",
      "text/plain": [
       "<Figure size 640x480 with 1 Axes>"
      ]
     },
     "metadata": {},
     "output_type": "display_data"
    }
   ],
   "source": [
    "# Pie chart showing the distribution of family status\n",
    "fam_status_distribution_pie = fam_status.plot.pie(autopct='%1.1f%%', labels= ['married', 'single', 'divorced/widowed', 'living with parents and siblings'], startangle=90, colors=['#ff9999','#66b3ff','#99ff99','#ffcc99'])\n",
    "plt.ylabel('')  # Hide the y-label\n",
    "plt.title('Distribution of Family Status')\n",
    "plt.show()"
   ]
  },
  {
   "cell_type": "code",
   "execution_count": 110,
   "id": "e323131d-79e2-4d01-b220-e1902d331261",
   "metadata": {},
   "outputs": [],
   "source": [
    "# Export the chart\n",
    "fam_status_distribution_pie.figure.savefig(os.path.join(path, '04 Analysis','Visualizations', 'fam_status_bar.png'))"
   ]
  },
  {
   "cell_type": "code",
   "execution_count": null,
   "id": "fcae2fd0-2f00-4cb2-b62f-470bfc8358dd",
   "metadata": {},
   "outputs": [],
   "source": []
  }
 ],
 "metadata": {
  "kernelspec": {
   "display_name": "Python 3 (ipykernel)",
   "language": "python",
   "name": "python3"
  },
  "language_info": {
   "codemirror_mode": {
    "name": "ipython",
    "version": 3
   },
   "file_extension": ".py",
   "mimetype": "text/x-python",
   "name": "python",
   "nbconvert_exporter": "python",
   "pygments_lexer": "ipython3",
   "version": "3.12.7"
  }
 },
 "nbformat": 4,
 "nbformat_minor": 5
}
