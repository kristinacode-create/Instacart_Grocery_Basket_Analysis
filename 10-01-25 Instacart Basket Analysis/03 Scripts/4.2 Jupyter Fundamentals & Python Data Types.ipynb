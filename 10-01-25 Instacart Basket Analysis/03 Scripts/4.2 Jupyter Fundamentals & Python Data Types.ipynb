{
 "cells": [
  {
   "cell_type": "markdown",
   "id": "3deb22b7-1298-4a05-8b87-fcfc58fd7f1f",
   "metadata": {},
   "source": [
    "# Importing Libraries"
   ]
  },
  {
   "cell_type": "code",
   "execution_count": 1,
   "id": "79bcdd3b-ea57-490f-a331-8f6f940ac9fd",
   "metadata": {},
   "outputs": [],
   "source": [
    "# Import libraries\n",
    "import pandas as pd\n",
    "import numpy as np\n",
    "import os"
   ]
  },
  {
   "cell_type": "markdown",
   "id": "45d6fc4f-9a58-43b4-be1d-25a7cca730e7",
   "metadata": {},
   "source": [
    "# Data Types"
   ]
  },
  {
   "cell_type": "code",
   "execution_count": 3,
   "id": "1342f992-cd65-4cec-bcc0-830266a0d895",
   "metadata": {},
   "outputs": [],
   "source": [
    "a=50\n",
    "b=50"
   ]
  },
  {
   "cell_type": "code",
   "execution_count": 4,
   "id": "819a2f0e-95bb-4d64-9a86-f2c34b1a0290",
   "metadata": {},
   "outputs": [
    {
     "data": {
      "text/plain": [
       "100"
      ]
     },
     "execution_count": 4,
     "metadata": {},
     "output_type": "execute_result"
    }
   ],
   "source": [
    "a+b"
   ]
  },
  {
   "cell_type": "code",
   "execution_count": 5,
   "id": "03b9d7e8-d03f-4755-b919-ef1f32008eca",
   "metadata": {},
   "outputs": [],
   "source": [
    "x=200\n",
    "z=100"
   ]
  },
  {
   "cell_type": "code",
   "execution_count": 6,
   "id": "177d0a3b-0a43-4a88-b4cb-ca0e479618cd",
   "metadata": {},
   "outputs": [
    {
     "data": {
      "text/plain": [
       "100"
      ]
     },
     "execution_count": 6,
     "metadata": {},
     "output_type": "execute_result"
    }
   ],
   "source": [
    "x-z"
   ]
  },
  {
   "cell_type": "code",
   "execution_count": 7,
   "id": "3ea15181-362e-43f2-b7f9-ccd2f0c378ec",
   "metadata": {},
   "outputs": [],
   "source": [
    "p=150\n",
    "n=25\n",
    "k=25"
   ]
  },
  {
   "cell_type": "code",
   "execution_count": 8,
   "id": "8921b282-34da-4aec-92e1-bc40ab7d65d0",
   "metadata": {},
   "outputs": [
    {
     "data": {
      "text/plain": [
       "100"
      ]
     },
     "execution_count": 8,
     "metadata": {},
     "output_type": "execute_result"
    }
   ],
   "source": [
    "p-n-k"
   ]
  },
  {
   "cell_type": "code",
   "execution_count": 10,
   "id": "a300b367-aa3b-4dfb-b8dc-aa870c3b8e09",
   "metadata": {},
   "outputs": [],
   "source": [
    "d=3.896\n",
    "q=9.878"
   ]
  },
  {
   "cell_type": "code",
   "execution_count": 11,
   "id": "ad173980-4ec5-439f-accc-fe758e7d9563",
   "metadata": {},
   "outputs": [
    {
     "data": {
      "text/plain": [
       "0.39441182425592225"
      ]
     },
     "execution_count": 11,
     "metadata": {},
     "output_type": "execute_result"
    }
   ],
   "source": [
    "d/q"
   ]
  },
  {
   "cell_type": "code",
   "execution_count": 19,
   "id": "05ea86bd-91bc-4b88-84c8-907eca5fa4e1",
   "metadata": {},
   "outputs": [],
   "source": [
    "part1 = \"Py\"\n",
    "part2 = \"th\"\n",
    "part3 = \"on\""
   ]
  },
  {
   "cell_type": "code",
   "execution_count": 21,
   "id": "ad9ee79f-a851-4e76-937f-4e6e8e99f671",
   "metadata": {},
   "outputs": [
    {
     "data": {
      "text/plain": [
       "'Python'"
      ]
     },
     "execution_count": 21,
     "metadata": {},
     "output_type": "execute_result"
    }
   ],
   "source": [
    "part1+part2+part3"
   ]
  },
  {
   "cell_type": "code",
   "execution_count": 22,
   "id": "f1066336-be08-41a6-b615-1324fcf71d59",
   "metadata": {},
   "outputs": [],
   "source": [
    "word1 = \"I\"\n",
    "word2 = \"love\"\n",
    "word3 = \"Python\""
   ]
  },
  {
   "cell_type": "code",
   "execution_count": 23,
   "id": "d7603989-9f00-43d4-a0b0-c14197c76a2f",
   "metadata": {},
   "outputs": [
    {
     "data": {
      "text/plain": [
       "'I love Python'"
      ]
     },
     "execution_count": 23,
     "metadata": {},
     "output_type": "execute_result"
    }
   ],
   "source": [
    "word1+\" \"+word2+\" \"+word3"
   ]
  },
  {
   "cell_type": "code",
   "execution_count": 24,
   "id": "d288796c-a850-4796-8ea3-66e6276a9acd",
   "metadata": {},
   "outputs": [],
   "source": [
    "#Bonus Task\n",
    "l=\"Phone\""
   ]
  },
  {
   "cell_type": "code",
   "execution_count": 27,
   "id": "22d19d97-5613-4b85-acaf-8109b8483051",
   "metadata": {},
   "outputs": [
    {
     "data": {
      "text/plain": [
       "'PhonePhonePhonePhonePhonePhonePhonePhonePhonePhonePhonePhonePhonePhonePhonePhonePhonePhonePhonePhonePhonePhonePhonePhonePhonePhonePhonePhonePhonePhonePhonePhonePhonePhonePhonePhonePhonePhonePhonePhonePhonePhonePhonePhonePhonePhonePhonePhonePhonePhonePhonePhonePhonePhonePhonePhonePhonePhonePhonePhonePhonePhonePhonePhonePhonePhonePhonePhonePhonePhonePhonePhonePhonePhonePhonePhonePhonePhonePhonePhonePhonePhonePhonePhonePhonePhonePhonePhonePhonePhonePhonePhonePhonePhonePhonePhonePhonePhonePhonePhone'"
      ]
     },
     "execution_count": 27,
     "metadata": {},
     "output_type": "execute_result"
    }
   ],
   "source": [
    "l*100"
   ]
  },
  {
   "cell_type": "code",
   "execution_count": null,
   "id": "22d7cc4b-e79a-4abd-9a88-ebfe964c1054",
   "metadata": {},
   "outputs": [],
   "source": []
  }
 ],
 "metadata": {
  "kernelspec": {
   "display_name": "Python 3 (ipykernel)",
   "language": "python",
   "name": "python3"
  },
  "language_info": {
   "codemirror_mode": {
    "name": "ipython",
    "version": 3
   },
   "file_extension": ".py",
   "mimetype": "text/x-python",
   "name": "python",
   "nbconvert_exporter": "python",
   "pygments_lexer": "ipython3",
   "version": "3.12.7"
  }
 },
 "nbformat": 4,
 "nbformat_minor": 5
}
